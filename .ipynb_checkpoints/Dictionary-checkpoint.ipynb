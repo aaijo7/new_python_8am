{
 "cells": [
  {
   "cell_type": "code",
   "execution_count": null,
   "id": "73212ea4-b8cd-466f-be41-1a0bbd78fdd9",
   "metadata": {},
   "outputs": [],
   "source": [
    "# Dictionary\n",
    "# - indexing\n",
    "# - ordered\n",
    "# - multiple and duplicate data\n",
    "# - mutable"
   ]
  },
  {
   "cell_type": "code",
   "execution_count": 1,
   "id": "9a5d20d0-cc63-42cc-bd72-35a765ef3b75",
   "metadata": {},
   "outputs": [
    {
     "name": "stdout",
     "output_type": "stream",
     "text": [
      "<class 'tuple'>\n",
      "<class 'dict'>\n"
     ]
    }
   ],
   "source": [
    "a = ()\n",
    "b = dict()\n",
    "\n",
    "print(type(a))\n",
    "print(type(b))"
   ]
  },
  {
   "cell_type": "code",
   "execution_count": null,
   "id": "f761a0ea-3da0-4f0c-a774-b35fe63f432e",
   "metadata": {},
   "outputs": [],
   "source": [
    "# d = {<key>:<value>, <key>:<value>, <key>:<value>}"
   ]
  },
  {
   "cell_type": "code",
   "execution_count": 3,
   "id": "b2ece4fb-8899-4a12-afaa-5b92e92e5de5",
   "metadata": {},
   "outputs": [
    {
     "name": "stdout",
     "output_type": "stream",
     "text": [
      "Apple\n",
      "Banana\n",
      "Cat\n"
     ]
    }
   ],
   "source": [
    "d = {'a':'Apple', 'b':'Banana', 'c':'Cat'}\n",
    "print(d[\"a\"])\n",
    "print(d['b'])\n",
    "print(d['c'])"
   ]
  },
  {
   "cell_type": "code",
   "execution_count": 4,
   "id": "dc9542e3-0fa0-4ba3-9a80-95fddba839b1",
   "metadata": {},
   "outputs": [
    {
     "name": "stdout",
     "output_type": "stream",
     "text": [
      "{'a': 'Apple', 'b': 'Banana', 'c': 'Cat'}\n"
     ]
    }
   ],
   "source": [
    "print(d)"
   ]
  },
  {
   "cell_type": "code",
   "execution_count": 7,
   "id": "4a68cf3d-ac4b-4cc7-a7af-968bb22e866e",
   "metadata": {},
   "outputs": [
    {
     "name": "stdout",
     "output_type": "stream",
     "text": [
      "{'a': 'Apple', 'b': 'Banana', 'c': 'Cat', 'A': 'Apple'}\n"
     ]
    }
   ],
   "source": [
    "d = {'a':'Apple', 'b':'Banana', 'c':'Cat', 'A':'Apple'}\n",
    "print(d)"
   ]
  },
  {
   "cell_type": "code",
   "execution_count": 9,
   "id": "2dc47feb-801b-4b0f-bd2b-020d11493be7",
   "metadata": {},
   "outputs": [
    {
     "name": "stdout",
     "output_type": "stream",
     "text": [
      "{'a': 'Apple', 'b': 'Banana', 'c': 'Cat'}\n"
     ]
    }
   ],
   "source": [
    "# Adding value on dictionary \n",
    "d = {}\n",
    "d['a'] = 'Apple'\n",
    "d['b'] = 'Banana'\n",
    "d['c'] = 'Cat'\n",
    "print(d)"
   ]
  },
  {
   "cell_type": "code",
   "execution_count": 14,
   "id": "a5458790-7e63-4d35-ae60-f3b3a2126e25",
   "metadata": {},
   "outputs": [
    {
     "name": "stdout",
     "output_type": "stream",
     "text": [
      "{'a': 'Ant', 'b': 'Banana', 'c': 'Cat', 'A': 'Apple'}\n"
     ]
    }
   ],
   "source": [
    "# Update value in dcitiobary\n",
    "dic = {'a':'Apple', 'b':'Banana', 'c':'Cat', 'A':'Apple'}\n",
    "dic['a'] = 'Ant'\n",
    "print(dic)"
   ]
  },
  {
   "cell_type": "code",
   "execution_count": 21,
   "id": "4a83e7d8-2302-492c-b4bd-228eb1d887b9",
   "metadata": {},
   "outputs": [
    {
     "name": "stdout",
     "output_type": "stream",
     "text": [
      "('a', 'Apple')\n",
      "('b', 'Banana')\n",
      "('c', 'Cat')\n",
      "('A', 'Apple')\n"
     ]
    }
   ],
   "source": [
    "# Dictionary on loop \n",
    "d = {'a':'Apple', 'b':'Banana', 'c':'Cat', 'A':'Apple'}\n",
    "for i in d.items():\n",
    "    print(i)"
   ]
  },
  {
   "cell_type": "code",
   "execution_count": 22,
   "id": "42aaabba-d120-470a-8ebe-8e4b59a63f79",
   "metadata": {},
   "outputs": [
    {
     "name": "stdout",
     "output_type": "stream",
     "text": [
      "{'a': 'Apple', 'b': 'Banana', 'c': 'Cat'}\n"
     ]
    }
   ],
   "source": [
    "l = [['a', 'Apple'], \n",
    "     ['b', 'Banana'],\n",
    "     ['c', 'Cat']]\n",
    "dic = dict(l)\n",
    "print(dic)"
   ]
  },
  {
   "cell_type": "code",
   "execution_count": 24,
   "id": "bcba2d76-8c70-49d3-912c-cf47a4aa7249",
   "metadata": {},
   "outputs": [
    {
     "name": "stdin",
     "output_type": "stream",
     "text": [
      "Enter n = 2\n",
      "Enter name = Ram\n",
      "Enter phone number = 98234234\n",
      "Enter name = Hari\n",
      "Enter phone number = 9023848234\n"
     ]
    },
    {
     "name": "stdout",
     "output_type": "stream",
     "text": [
      "{'Ram': 98234234, 'Hari': 9023848234}\n"
     ]
    }
   ],
   "source": [
    "# Create\n",
    "d = {}\n",
    "n = int(input(\"Enter n =\"))\n",
    "for i in range(n):\n",
    "    name = input('Enter name =')\n",
    "    phone = int(input('Enter phone number ='))\n",
    "    d[name] = phone\n",
    "\n",
    "print(d)"
   ]
  },
  {
   "cell_type": "code",
   "execution_count": null,
   "id": "7e5e9064-6f2b-4704-a4b0-07cbdd1d0b1e",
   "metadata": {},
   "outputs": [],
   "source": [
    "# Read"
   ]
  },
  {
   "cell_type": "code",
   "execution_count": 25,
   "id": "4603a840-6d58-4ea3-aab7-08a7bbdd9e4a",
   "metadata": {},
   "outputs": [
    {
     "data": {
      "text/plain": [
       "{'Ram': '9840922675', 'Shyam': '999832984923'}"
      ]
     },
     "execution_count": 25,
     "metadata": {},
     "output_type": "execute_result"
    }
   ],
   "source": [
    "# Update\n",
    "d = {'Ram': '983209423423', 'Shyam':'999832984923'}\n",
    "d['Ram'] = '9840922675'\n",
    "d"
   ]
  },
  {
   "cell_type": "code",
   "execution_count": null,
   "id": "e2b27566-eb63-4774-912c-09ed21a8c4fd",
   "metadata": {},
   "outputs": [],
   "source": [
    "# Delete\n",
    "# del pop()"
   ]
  },
  {
   "cell_type": "code",
   "execution_count": 26,
   "id": "572ecba0-7e25-4737-a627-2f64421a7b9f",
   "metadata": {},
   "outputs": [
    {
     "name": "stdout",
     "output_type": "stream",
     "text": [
      "{'Shyam': '999832984923'}\n"
     ]
    }
   ],
   "source": [
    "d = {'Ram': '983209423423', 'Shyam':'999832984923'}\n",
    "del d['Ram']\n",
    "print(d)"
   ]
  },
  {
   "cell_type": "code",
   "execution_count": 29,
   "id": "c59e876e-ced6-4174-9dd3-4c0a65b38853",
   "metadata": {},
   "outputs": [
    {
     "name": "stdout",
     "output_type": "stream",
     "text": [
      "{'Ram': '983209423423'}\n",
      "999832984923\n"
     ]
    }
   ],
   "source": [
    "d = {'Ram': '983209423423', 'Shyam':'999832984923'}\n",
    "b = d.pop('Shyam')\n",
    "print(d)\n",
    "print(b)"
   ]
  },
  {
   "cell_type": "code",
   "execution_count": 31,
   "id": "006feda5-5590-4a47-93b2-3dfb9693d8c2",
   "metadata": {},
   "outputs": [
    {
     "data": {
      "text/plain": [
       "{'Ram': [98324234234, 9842394234], 'Shyam': [98234234324, 9845390324]}"
      ]
     },
     "execution_count": 31,
     "metadata": {},
     "output_type": "execute_result"
    }
   ],
   "source": [
    "# List inside dictionary\n",
    "info = {'Ram':[98324234234,9842394234],\n",
    "        'Shyam':[98234234324, 9845390324]}\n",
    "info"
   ]
  },
  {
   "cell_type": "code",
   "execution_count": 32,
   "id": "7d3d1efa-8d8d-4925-8e60-b2002cf95ec7",
   "metadata": {},
   "outputs": [
    {
     "data": {
      "text/plain": [
       "{'name': ['Ram', 'Shyam'],\n",
       " 'ntc': [9845932442, 9823432423],\n",
       " 'ncell': [9823475238, 98023423423]}"
      ]
     },
     "execution_count": 32,
     "metadata": {},
     "output_type": "execute_result"
    }
   ],
   "source": [
    "info = {'name':['Ram', 'Shyam'],\n",
    "        'ntc':[9845932442, 9823432423],\n",
    "        'ncell':[9823475238, 98023423423]}\n",
    "info"
   ]
  },
  {
   "cell_type": "code",
   "execution_count": 34,
   "id": "42b53f2a-8cce-44cb-9d18-6b79bf486cd7",
   "metadata": {},
   "outputs": [
    {
     "name": "stdout",
     "output_type": "stream",
     "text": [
      "Ram\n",
      "9845932442\n",
      "9823475238\n"
     ]
    }
   ],
   "source": [
    "print(info['name'][0])\n",
    "print(info['ntc'][0])\n",
    "print(info['ncell'][0])"
   ]
  },
  {
   "cell_type": "code",
   "execution_count": 48,
   "id": "9afd72af-7f48-4c73-9807-b76c7320f604",
   "metadata": {},
   "outputs": [
    {
     "name": "stdin",
     "output_type": "stream",
     "text": [
      "Enter index = 1\n"
     ]
    },
    {
     "name": "stdout",
     "output_type": "stream",
     "text": [
      "Shyam\n",
      "9823432423\n",
      "98023423423\n"
     ]
    }
   ],
   "source": [
    "i = int(input(\"Enter index =\"))\n",
    "info = {'name':['Ram', 'Shyam'],\n",
    "        'ntc':[9845932442, 9823432423],\n",
    "        'ncell':[9823475238, 98023423423]}\n",
    "print(info['name'][i])\n",
    "print(info['ntc'][i])\n",
    "print(info['ncell'][i])"
   ]
  },
  {
   "cell_type": "code",
   "execution_count": 62,
   "id": "0911a71d-418f-4f6a-a987-4212b39720a5",
   "metadata": {},
   "outputs": [
    {
     "name": "stdin",
     "output_type": "stream",
     "text": [
      "Enter n = 2\n",
      "Enter name = Hari\n",
      "Enter ntc number = 984021093812\n",
      "Enter ncell number = 980019820312\n",
      "Enter name = shyam\n",
      "Enter ntc number = 9801239123\n",
      "Enter ncell number = 988439298423\n"
     ]
    },
    {
     "name": "stdout",
     "output_type": "stream",
     "text": [
      "{'name': ['Hari', 'shyam'], 'ntc': [984021093812, 9801239123], 'ncell': [980019820312, 988439298423]}\n"
     ]
    }
   ],
   "source": [
    "info = {'name':[],\n",
    "        'ntc':[],\n",
    "        'ncell':[]}\n",
    "n = int(input(\"Enter n =\"))\n",
    "for i in range(n):\n",
    "    name = input(\"Enter name =\")\n",
    "    ntc = int(input(\"Enter ntc number =\"))\n",
    "    ncell = int(input(\"Enter ncell number =\"))\n",
    "    info['name'].append(name) \n",
    "    info['ntc'].append(ntc) \n",
    "    info['ncell'].append(ncell)\n",
    "print(info)"
   ]
  },
  {
   "cell_type": "code",
   "execution_count": null,
   "id": "75bc0d4c-5dba-4383-8e4b-aba0e8f4339f",
   "metadata": {},
   "outputs": [],
   "source": [
    "# WAP TO TAKE DATA FROM USER AND CREATE DICT INSIDE LIST ALSO DO CRUD\n",
    "# WAP TO TAKE DATA FROM USER AND CREATE DICT INSIDE DICT ALSO DO CRUD"
   ]
  }
 ],
 "metadata": {
  "kernelspec": {
   "display_name": "Python 3 (ipykernel)",
   "language": "python",
   "name": "python3"
  },
  "language_info": {
   "codemirror_mode": {
    "name": "ipython",
    "version": 3
   },
   "file_extension": ".py",
   "mimetype": "text/x-python",
   "name": "python",
   "nbconvert_exporter": "python",
   "pygments_lexer": "ipython3",
   "version": "3.12.7"
  }
 },
 "nbformat": 4,
 "nbformat_minor": 5
}
