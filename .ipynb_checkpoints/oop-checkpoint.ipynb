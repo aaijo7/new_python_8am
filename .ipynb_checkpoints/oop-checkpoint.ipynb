{
 "cells": [
  {
   "cell_type": "code",
   "execution_count": null,
   "id": "c5bb30c7-5809-4b92-a545-be463d616b82",
   "metadata": {},
   "outputs": [],
   "source": [
    "# Class\n",
    "class <class_name>:  #class\n",
    "    <methods>        #method\n",
    "    <methods>\n",
    "\n",
    "obj = <class_name> () #object"
   ]
  },
  {
   "cell_type": "code",
   "execution_count": 5,
   "id": "9e8839d3-86f8-4420-a730-224afeeb0426",
   "metadata": {},
   "outputs": [
    {
     "name": "stdout",
     "output_type": "stream",
     "text": [
      "Hello World\n"
     ]
    }
   ],
   "source": [
    "class Hello():              # <class>\n",
    "    def hello(self):        # <method> \n",
    "        print(\"Hello World\")\n",
    "\n",
    "obj = Hello()               # <object>\n",
    "obj.hello()                 # <calling method>"
   ]
  },
  {
   "cell_type": "code",
   "execution_count": 6,
   "id": "ccbd4d96-193f-4336-981b-0c075fcb62b7",
   "metadata": {},
   "outputs": [
    {
     "name": "stdout",
     "output_type": "stream",
     "text": [
      "100\n",
      "1000\n"
     ]
    }
   ],
   "source": [
    "class Cal:\n",
    "    def area(self):\n",
    "        l = 10\n",
    "        b = 10\n",
    "        a = l*b\n",
    "        print(a)\n",
    "    def volume(self):\n",
    "        l = 10\n",
    "        b = 10\n",
    "        h = 10\n",
    "        v = l*b*h\n",
    "        print(v)\n",
    "\n",
    "obj = Cal()\n",
    "obj.area()\n",
    "obj.volume"
   ]
  },
  {
   "cell_type": "code",
   "execution_count": 18,
   "id": "1c5ccb53-e2cb-4fb7-8d93-e2d25562d84b",
   "metadata": {},
   "outputs": [
    {
     "name": "stdin",
     "output_type": "stream",
     "text": [
      "Enter name = Hari\n",
      "Enter age = 14\n",
      "Enter address = Bhaktapur\n"
     ]
    },
    {
     "name": "stdout",
     "output_type": "stream",
     "text": [
      "Hello World, I am Hari. I am 14 years old. I am from Bhaktapur.\n"
     ]
    }
   ],
   "source": [
    "class Info():\n",
    "    def __init__(self,name,age,add):\n",
    "        self.name = name\n",
    "        self.age = age\n",
    "        self.address = add\n",
    "        \n",
    "    def info(self):\n",
    "        data = f\"Hello World, I am {self.name}. I am {self.age} years old. I am from {self.address}.\"\n",
    "        print(data)\n",
    "name = input(\"Enter name =\")\n",
    "age = int(input(\"Enter age =\"))\n",
    "add = input(\"Enter address =\")\n",
    "\n",
    "obj = Info(name,age,add)\n",
    "obj.info()"
   ]
  },
  {
   "cell_type": "code",
   "execution_count": 21,
   "id": "bfbfa8dd-5df1-476d-bb9e-b4d55b716192",
   "metadata": {},
   "outputs": [
    {
     "name": "stdin",
     "output_type": "stream",
     "text": [
      "Enter name = HARI\n",
      "Enter age = 19\n",
      "Enter address = BHAKTAPUR\n"
     ]
    },
    {
     "name": "stdout",
     "output_type": "stream",
     "text": [
      "Hello World, I am HARI. I am 19 years old.\n"
     ]
    }
   ],
   "source": [
    "class Info():\n",
    "    def __init__(self,name,age):\n",
    "        self.name = name\n",
    "        self.age = age\n",
    "        \n",
    "    def info(self,add):\n",
    "        data = f\"Hello World, I am {self.name}. I am {self.age} years old.\"\n",
    "        print(data)\n",
    "name = input(\"Enter name =\")\n",
    "age = int(input(\"Enter age =\"))\n",
    "add = input(\"Enter address =\")\n",
    "\n",
    "obj = Info(name,age)\n",
    "obj.info(add)"
   ]
  },
  {
   "cell_type": "code",
   "execution_count": 28,
   "id": "98546962-3c88-4f42-be34-3331f840a450",
   "metadata": {},
   "outputs": [
    {
     "name": "stdin",
     "output_type": "stream",
     "text": [
      "Enter name = Ram\n",
      "Enter age = 21\n",
      "Enter address = Lalitpur\n"
     ]
    },
    {
     "name": "stdout",
     "output_type": "stream",
     "text": [
      "Hello World, I am Ram. I am 21 years old. I am from Lalitpur.\n",
      "Hello World, I am Shyam. I am 20 years old. I am from Kathmandu.\n",
      "Hello World, I am Hari. I am 35 years old. I am from Bhaktapur.\n"
     ]
    }
   ],
   "source": [
    "class Info():\n",
    "    def __init__(self,name,age,add):\n",
    "        self.name = name\n",
    "        self.age = age\n",
    "        self.address = add\n",
    "        \n",
    "    def info(self):\n",
    "        data = f\"Hello World, I am {self.name}. I am {self.age} years old. I am from {self.address}.\"\n",
    "        print(data)\n",
    "name = input(\"Enter name =\")\n",
    "age = int(input(\"Enter age =\"))\n",
    "add = input(\"Enter address =\")\n",
    "\n",
    "obj = Info(name,age,add)\n",
    "obj.info()\n",
    "\n",
    "obj1 = Info(\"Shyam\", 20,\"Kathmandu\")\n",
    "obj1.info()\n",
    "\n",
    "obj2= Info(\"Hari\", 35, \"Bhaktapur\")\n",
    "obj2.info()"
   ]
  },
  {
   "cell_type": "code",
   "execution_count": 29,
   "id": "d32cbb13-8ca5-4fef-bb07-7c74b493c6dc",
   "metadata": {},
   "outputs": [
    {
     "name": "stdout",
     "output_type": "stream",
     "text": [
      "Hello World, I am Ram. I am 21 years old. I am from Lalitpur.\n",
      "Hello World, I am Shyam. I am 20 years old. I am from Kathmandu.\n",
      "Hello World, I am Hari. I am 35 years old. I am from Bhaktapur.\n"
     ]
    }
   ],
   "source": [
    "obj.info()\n",
    "obj1.info()\n",
    "obj2.info()"
   ]
  },
  {
   "cell_type": "code",
   "execution_count": 42,
   "id": "da0a3bc3-4aec-4463-a5b5-c013348cb717",
   "metadata": {},
   "outputs": [
    {
     "name": "stdin",
     "output_type": "stream",
     "text": [
      "Enter length = 10\n",
      "Enter breadth = 10\n",
      "Enter height = 10\n"
     ]
    },
    {
     "name": "stdout",
     "output_type": "stream",
     "text": [
      "100\n",
      "1000\n"
     ]
    }
   ],
   "source": [
    "class Area():\n",
    "    def __init__(self,l,b):\n",
    "        self.l = l\n",
    "        self.b = b\n",
    "    def area(self):\n",
    "        area = self.l*self.b\n",
    "        print(area)\n",
    "        \n",
    "class Volume():\n",
    "    def __init__(self,l,b,h):\n",
    "        self.l = l\n",
    "        self.b = b\n",
    "        self.h = h   \n",
    "    def volume(self):\n",
    "        volume = self.l*self.b*self.h\n",
    "        print(volume)\n",
    "l = int(input(\"Enter length =\"))\n",
    "b = int(input(\"Enter breadth =\"))\n",
    "h = int(input(\"Enter height =\"))\n",
    "obj = Area(l,b)\n",
    "obj.area()\n",
    "obj1 = Volume(l,b,h)\n",
    "obj1.volume()"
   ]
  },
  {
   "cell_type": "code",
   "execution_count": null,
   "id": "5f0bd819-05e1-464b-bf97-7673defbd47c",
   "metadata": {},
   "outputs": [],
   "source": [
    "# JULY 23"
   ]
  },
  {
   "cell_type": "code",
   "execution_count": 5,
   "id": "d9a9a3e9-37af-4fb1-88e3-52654b5676a5",
   "metadata": {},
   "outputs": [
    {
     "name": "stdout",
     "output_type": "stream",
     "text": [
      "Ram\n",
      "<class '__main__.Info'>\n"
     ]
    }
   ],
   "source": [
    "# str method\n",
    "class Info:\n",
    "    def __init__(self):\n",
    "        self.name = \"Ram\"\n",
    "        self.age = 14\n",
    "        self.add = \"Kathmandu\"\n",
    "    def __str__(self):\n",
    "            return self.name\n",
    "\n",
    "obj = Info()\n",
    "print(obj)\n",
    "print(type(obj))"
   ]
  },
  {
   "cell_type": "code",
   "execution_count": 8,
   "id": "b5d674a7-761f-49b5-a718-2ae957a3075f",
   "metadata": {},
   "outputs": [],
   "source": [
    "# class Point:\n",
    "#     def __init__(self, x = 0,y = 0):\n",
    "#         self.x = x\n",
    "#         self.y = y\n",
    "\n",
    "# p1 = Point(2,3)\n",
    "# p2 = Point(-1,2)\n",
    "# p1 + p2"
   ]
  },
  {
   "cell_type": "code",
   "execution_count": 9,
   "id": "ae5d3de7-e04a-40ba-b068-03070d7d23be",
   "metadata": {},
   "outputs": [
    {
     "name": "stdout",
     "output_type": "stream",
     "text": [
      "This is init method 1000\n",
      "This is init method 2000\n",
      "This is init method 3000\n",
      "This is init method 3000\n",
      "This is init method 3000\n",
      "This is init method 6000\n",
      "This is init method 6000\n",
      "This is str method 6000\n",
      "6000\n"
     ]
    }
   ],
   "source": [
    "class Point:\n",
    "    def __init__(self, x = 0):\n",
    "        self.x = x\n",
    "        print(\"This is init method\", self.x)\n",
    "\n",
    "    def __str__(self):\n",
    "        print(\"This is str method\", self.x)\n",
    "        return f\"{self.x}\"\n",
    "\n",
    "    def __add__(self,other):\n",
    "        x = self.x + other.x\n",
    "        print(\"This is init method\",x)\n",
    "        return Point(x)\n",
    "\n",
    "p1 = Point(1000)\n",
    "p2 = Point(2000)\n",
    "p3 = Point(3000)\n",
    "print(p1 + p2 + p3)"
   ]
  },
  {
   "cell_type": "code",
   "execution_count": null,
   "id": "92203370-b99e-4901-84ab-e9508eeb4534",
   "metadata": {},
   "outputs": [],
   "source": []
  }
 ],
 "metadata": {
  "kernelspec": {
   "display_name": "Python 3 (ipykernel)",
   "language": "python",
   "name": "python3"
  },
  "language_info": {
   "codemirror_mode": {
    "name": "ipython",
    "version": 3
   },
   "file_extension": ".py",
   "mimetype": "text/x-python",
   "name": "python",
   "nbconvert_exporter": "python",
   "pygments_lexer": "ipython3",
   "version": "3.12.7"
  }
 },
 "nbformat": 4,
 "nbformat_minor": 5
}
