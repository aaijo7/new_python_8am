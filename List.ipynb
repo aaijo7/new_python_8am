{
 "cells": [
  {
   "cell_type": "code",
   "execution_count": null,
   "id": "df8c158f-682d-42ac-adc7-3b58d8f9bcba",
   "metadata": {},
   "outputs": [],
   "source": [
    "# Python collections\n",
    "# List\n",
    "# Tuple\n",
    "# Dictionary\n",
    "# Set"
   ]
  },
  {
   "cell_type": "code",
   "execution_count": null,
   "id": "43b26953-5e2e-468e-8609-669de9f9aaad",
   "metadata": {},
   "outputs": [],
   "source": [
    "# Mostly used List\n",
    "# Supports Indexing\n",
    "# Is ordered\n",
    "# Multiple and Duplicate values\n",
    "# Mutable"
   ]
  },
  {
   "cell_type": "code",
   "execution_count": 1,
   "id": "87d7075d-c447-4aa5-a217-d1cf0451dc17",
   "metadata": {},
   "outputs": [
    {
     "name": "stdout",
     "output_type": "stream",
     "text": [
      "[1, 2, 3, 4, 5, 6, 7, 8, 9, 10]\n",
      "['Apple', 'Ball', 'Cat', 'Dog', 'Fish']\n",
      "<class 'list'>\n",
      "<class 'list'>\n"
     ]
    }
   ],
   "source": [
    "a = [1,2,3,4,5,6,7,8,9,10]\n",
    "b = [\"Apple\", \"Ball\", \"Cat\", \"Dog\", \"Fish\"]\n",
    "print(a)\n",
    "print(b)\n",
    "print(type(a))\n",
    "print(type(b))"
   ]
  },
  {
   "cell_type": "code",
   "execution_count": 8,
   "id": "0cf03c6a-17e6-4f9b-9c8f-01aa0a1ba0e8",
   "metadata": {},
   "outputs": [
    {
     "name": "stdout",
     "output_type": "stream",
     "text": [
      "Fish\n",
      "['Apple', 'Ball', 'Cat', 'Dog']\n",
      "['Apple', 'Cat', 'Fish']\n"
     ]
    }
   ],
   "source": [
    "b = [\"Apple\", \"Ball\", \"Cat\", \"Dog\", \"Fish\"]\n",
    "print(b[4])\n",
    "print(b[0:4])\n",
    "print(b[0:5:2])"
   ]
  },
  {
   "cell_type": "code",
   "execution_count": 9,
   "id": "126036d1-3711-40cf-b7b6-dd934e47ec7d",
   "metadata": {},
   "outputs": [
    {
     "name": "stdout",
     "output_type": "stream",
     "text": [
      "Fish\n"
     ]
    }
   ],
   "source": [
    "b = [\"Apple\", \"Ball\", \"Cat\", \"Dog\", \"Fish\", \"Apple\"]\n",
    "print(b[-2])"
   ]
  },
  {
   "cell_type": "code",
   "execution_count": 10,
   "id": "a6b40767-dd68-4f59-b361-4e2828eb04d0",
   "metadata": {},
   "outputs": [
    {
     "name": "stdout",
     "output_type": "stream",
     "text": [
      "[1, 2, 3, 4, 5, 6]\n"
     ]
    }
   ],
   "source": [
    "a = [1,2,3]\n",
    "b = [4,5,6]\n",
    "c = a+b\n",
    "print(c)"
   ]
  },
  {
   "cell_type": "code",
   "execution_count": 13,
   "id": "7c2e9c35-7bde-4b21-ad4e-6cfa56082cd2",
   "metadata": {},
   "outputs": [
    {
     "name": "stdout",
     "output_type": "stream",
     "text": [
      "['Hello World', 'Hello World', 'Hello World', 'Hello World']\n"
     ]
    }
   ],
   "source": [
    "a = [\"Hello World\"]\n",
    "print(a*4)"
   ]
  },
  {
   "cell_type": "code",
   "execution_count": 16,
   "id": "ca05db16-f3ad-4591-9a66-c78de8e9b7d1",
   "metadata": {},
   "outputs": [
    {
     "name": "stdout",
     "output_type": "stream",
     "text": [
      "Apple\n",
      "Ball\n",
      "Cat\n"
     ]
    }
   ],
   "source": [
    "b = [\"Apple\", \"Ball\", \"Cat\"]\n",
    "for i in b:\n",
    "    print(i)"
   ]
  },
  {
   "cell_type": "code",
   "execution_count": 30,
   "id": "c04ef575-b562-4351-bcf0-d79a0c1de9e2",
   "metadata": {},
   "outputs": [
    {
     "name": "stdin",
     "output_type": "stream",
     "text": [
      "Enter value of n = 5\n",
      "Enter x = 3\n",
      "Enter x = 5\n",
      "Enter x = 6\n",
      "Enter x = 8\n",
      "Enter x = 9\n"
     ]
    },
    {
     "name": "stdout",
     "output_type": "stream",
     "text": [
      "[3, 5, 6, 8, 9]\n"
     ]
    }
   ],
   "source": [
    "l = []\n",
    "n = int(input(\"Enter value of n =\"))\n",
    "for i in range(n):\n",
    "    x = int(input(\"Enter x =\"))\n",
    "    l = l + [x]\n",
    "print(l)"
   ]
  },
  {
   "cell_type": "code",
   "execution_count": 31,
   "id": "4b27cacd-e47e-4745-b033-ca13caad6681",
   "metadata": {},
   "outputs": [
    {
     "name": "stdout",
     "output_type": "stream",
     "text": [
      "Min value = 3\n",
      "Max value = 9\n",
      "Sum of value = 31\n",
      "[3, 5, 6, 8, 9]\n",
      "[9, 8, 6, 5, 3]\n"
     ]
    }
   ],
   "source": [
    "print(\"Min value =\", min(l))\n",
    "print(\"Max value =\", max(l))\n",
    "print(\"Sum of value =\", sum(l))\n",
    "l.sort()\n",
    "print(l)\n",
    "l.reverse()\n",
    "print(l)"
   ]
  },
  {
   "cell_type": "code",
   "execution_count": 33,
   "id": "71c76c7a-08d1-4ad3-ac48-3f910814705c",
   "metadata": {},
   "outputs": [
    {
     "name": "stdout",
     "output_type": "stream",
     "text": [
      "['Aaijo', 'Apple', 'Ball', 'Cat', 'Dog', 'Fish', 'Zebra']\n",
      "['Zebra', 'Fish', 'Dog', 'Cat', 'Ball', 'Apple', 'Aaijo']\n"
     ]
    }
   ],
   "source": [
    "b = [\"Apple\", \"Ball\", \"Cat\", \"Dog\", \"Fish\", \"Aaijo\", \"Zebra\"]\n",
    "b.sort()\n",
    "print(b)\n",
    "b.reverse()\n",
    "print(b)"
   ]
  },
  {
   "cell_type": "code",
   "execution_count": null,
   "id": "ba40b8be-004b-483e-b152-57947dd50e73",
   "metadata": {},
   "outputs": [],
   "source": [
    "# CRUD operation\n",
    "# Create\n",
    "# Read\n",
    "# Update\n",
    "# Delete"
   ]
  },
  {
   "cell_type": "code",
   "execution_count": 34,
   "id": "e6475b6f-1658-415f-9337-b76a03d0d618",
   "metadata": {},
   "outputs": [],
   "source": [
    "# Create\n",
    "# append() insert() extend()"
   ]
  },
  {
   "cell_type": "code",
   "execution_count": 35,
   "id": "0dcbfad3-b6af-48fc-9dee-1bb97618d0dd",
   "metadata": {},
   "outputs": [
    {
     "name": "stdout",
     "output_type": "stream",
     "text": [
      "['Apple', 'Banana', 'Cat']\n"
     ]
    }
   ],
   "source": [
    "#append()\n",
    "l = []\n",
    "l.append(\"Apple\")\n",
    "l.append(\"Banana\")\n",
    "l.append(\"Cat\")\n",
    "print(l)"
   ]
  },
  {
   "cell_type": "code",
   "execution_count": 36,
   "id": "1520d7d0-53fd-4bf5-8692-63355aaa9cbf",
   "metadata": {},
   "outputs": [
    {
     "name": "stdin",
     "output_type": "stream",
     "text": [
      "Enter value of n = 3\n",
      "Enter x = 2234\n",
      "Enter x = 121\n",
      "Enter x = 567\n"
     ]
    },
    {
     "name": "stdout",
     "output_type": "stream",
     "text": [
      "[2234, 121, 567]\n"
     ]
    }
   ],
   "source": [
    "l = []\n",
    "n = int(input(\"Enter value of n =\"))\n",
    "for i in range(n):\n",
    "    x = int(input(\"Enter x =\"))\n",
    "    l.append(x)\n",
    "print(l)"
   ]
  },
  {
   "cell_type": "code",
   "execution_count": 41,
   "id": "67794141-db5a-4347-85dd-8b2bc321576c",
   "metadata": {},
   "outputs": [
    {
     "name": "stdout",
     "output_type": "stream",
     "text": [
      "['Apple', 'apple', 'Ball', 'Cat', 'Dog', 'Fish', 'Aaijo', 'Zebra']\n"
     ]
    }
   ],
   "source": [
    "# insert()\n",
    "b = [\"Apple\", \"Ball\", \"Cat\", \"Dog\", \"Fish\", \"Aaijo\", \"Zebra\"]\n",
    "b.insert(1, \"apple\")\n",
    "print(b)"
   ]
  },
  {
   "cell_type": "code",
   "execution_count": 42,
   "id": "99ff69bb-3126-4261-a67d-e8e79827cf70",
   "metadata": {},
   "outputs": [
    {
     "name": "stdout",
     "output_type": "stream",
     "text": [
      "[1, 2, 3, 4, 5, 6, 7, 8, 9]\n"
     ]
    }
   ],
   "source": [
    "# extend()\n",
    "a = [1,2,3,4,5]\n",
    "b = [6,7,8,9]\n",
    "a.extend(b)\n",
    "print(a)"
   ]
  },
  {
   "cell_type": "code",
   "execution_count": 1,
   "id": "d2d46009-e21b-47f8-99aa-5a0be293e27e",
   "metadata": {},
   "outputs": [
    {
     "name": "stdout",
     "output_type": "stream",
     "text": [
      "Dog\n"
     ]
    }
   ],
   "source": [
    "# Update\n",
    "b = [\"Apple\", \"Ball\", \"Cat\", \"Dog\", \"Fish\", \"Aaijo\", \"Zebra\"]\n",
    "b[0] = b[3]\n",
    "print(b[0])"
   ]
  },
  {
   "cell_type": "code",
   "execution_count": 46,
   "id": "4a5948cf-f08e-441b-a3d4-900cea820dd2",
   "metadata": {},
   "outputs": [
    {
     "name": "stdout",
     "output_type": "stream",
     "text": [
      "['Sita', 'Gita', 'Cat', 'Dog', 'Fish', 'Aaijo', 'Zebra']\n"
     ]
    }
   ],
   "source": [
    "b = [\"Apple\", \"Ball\", \"Cat\", \"Dog\", \"Fish\", \"Aaijo\", \"Zebra\"]\n",
    "b[0:2] = [\"Sita\", \"Gita\"]\n",
    "print(b)"
   ]
  },
  {
   "cell_type": "code",
   "execution_count": null,
   "id": "e2304711-a2f7-4b66-ac32-999c56952353",
   "metadata": {},
   "outputs": [],
   "source": [
    "# Delete\n",
    "# del remove() pop()"
   ]
  },
  {
   "cell_type": "code",
   "execution_count": 1,
   "id": "02442cb4-e360-4027-b6c3-09cd7b3dc4a7",
   "metadata": {},
   "outputs": [
    {
     "name": "stdout",
     "output_type": "stream",
     "text": [
      "['Fish', 'Aaijo', 'Zebra']\n"
     ]
    }
   ],
   "source": [
    "#del \n",
    "b = [\"Apple\", \"Ball\", \"Cat\", \"Dog\", \"Fish\", \"Aaijo\", \"Zebra\"]\n",
    "del b[0:4]\n",
    "print(b)"
   ]
  },
  {
   "cell_type": "code",
   "execution_count": 1,
   "id": "97403a28-0440-4c82-93d6-a5ccf8ed4822",
   "metadata": {},
   "outputs": [
    {
     "name": "stdout",
     "output_type": "stream",
     "text": [
      "['Ball', 'Cat', 'Dog', 'Fish', 'Aaijo', 'Zebra']\n"
     ]
    }
   ],
   "source": [
    "# remove()\n",
    "b = [\"Apple\", \"Ball\", \"Cat\", \"Dog\", \"Fish\", \"Aaijo\", \"Zebra\"]\n",
    "b.remove(\"Apple\")\n",
    "print(b)"
   ]
  },
  {
   "cell_type": "code",
   "execution_count": 1,
   "id": "d32cafd9-7216-439e-a11f-8e291b1bc31b",
   "metadata": {},
   "outputs": [
    {
     "name": "stdout",
     "output_type": "stream",
     "text": [
      "['Apple', 'Ball', 'Cat', 'Fish', 'Aaijo', 'Zebra']\n"
     ]
    }
   ],
   "source": [
    "# pop()\n",
    "b = [\"Apple\", \"Ball\", \"Cat\", \"Dog\", \"Fish\", \"Aaijo\", \"Zebra\"]\n",
    "b.pop(3)\n",
    "print(b)"
   ]
  },
  {
   "cell_type": "code",
   "execution_count": 1,
   "id": "55dee186-1360-4e5e-ba0a-a2a7ac8b57c9",
   "metadata": {},
   "outputs": [],
   "source": [
    "# Nested List (list inside list)"
   ]
  },
  {
   "cell_type": "code",
   "execution_count": 2,
   "id": "ba820548-5007-44e4-9978-ccca18a63d23",
   "metadata": {},
   "outputs": [
    {
     "name": "stdout",
     "output_type": "stream",
     "text": [
      "3\n"
     ]
    }
   ],
   "source": [
    "a = [[1,2,3],[4,5,6],[7,8,9]]\n",
    "print(len(a))"
   ]
  },
  {
   "cell_type": "code",
   "execution_count": 5,
   "id": "34c832b2-8eca-4788-8025-c0817408bf7a",
   "metadata": {},
   "outputs": [
    {
     "name": "stdout",
     "output_type": "stream",
     "text": [
      "[['Ram', 34, 'Kathmandu'], ['Shyam', 45, 'Bhaktapur'], ['Hari', 34, 'Lalitpur']]\n"
     ]
    }
   ],
   "source": [
    "a = [[\"Ram\",34,\"Kathmandu\"],\n",
    "    [\"Shyam\",45,\"Bhaktapur\"],\n",
    "    [\"Hari\",34,\"Lalitpur\"]]\n",
    "print(a)"
   ]
  },
  {
   "cell_type": "code",
   "execution_count": 7,
   "id": "7953fe0d-1175-42da-8c05-cdb4ced2ce3e",
   "metadata": {},
   "outputs": [
    {
     "name": "stdin",
     "output_type": "stream",
     "text": [
      "Enter n = 2\n",
      "Enter name = Nischal\n",
      "Enter age = 10\n",
      "Enter add = Ktm\n",
      "Enter name = Hari\n",
      "Enter age = 20\n",
      "Enter add = bhaktapur\n"
     ]
    },
    {
     "name": "stdout",
     "output_type": "stream",
     "text": [
      "[['Nischal', 10, 'Ktm'], ['Hari', 20, 'bhaktapur']]\n"
     ]
    }
   ],
   "source": [
    "data = []\n",
    "n = int(input(\"Enter n =\"))\n",
    "for i in range(n):\n",
    "    name = input(\"Enter name =\")\n",
    "    age = int(input(\"Enter age =\"))\n",
    "    add = input(\"Enter add =\")\n",
    "    x = [name, age, add]\n",
    "    data.append(x)\n",
    "\n",
    "print(data)"
   ]
  },
  {
   "cell_type": "code",
   "execution_count": 8,
   "id": "a4b2090f-8df8-48d8-b97e-12ebfe2c9628",
   "metadata": {},
   "outputs": [
    {
     "name": "stdout",
     "output_type": "stream",
     "text": [
      "['Ram', 34, 'Kathmandu']\n",
      "Ram\n"
     ]
    }
   ],
   "source": [
    "# Indexing \n",
    "a = [['Ram', 34, 'Kathmandu'], ['Shyam', 29, 'Bhaktapur'], ['Hari', 20, 'Lalitpur']]\n",
    "print(a[0])\n",
    "print(a[0][0])"
   ]
  },
  {
   "cell_type": "code",
   "execution_count": 4,
   "id": "a122a9c2-abfd-43f4-b355-8b6bc13df9d6",
   "metadata": {},
   "outputs": [
    {
     "data": {
      "text/plain": [
       "[['Ram', 34, 'Kathmandu'],\n",
       " ['Shyam', 29, 'Bhaktapur'],\n",
       " ['Hari', 20, 'Lalitpur'],\n",
       " ['Sabin', 32, 'Kaski']]"
      ]
     },
     "execution_count": 4,
     "metadata": {},
     "output_type": "execute_result"
    }
   ],
   "source": [
    "a = [['Ram', 34, 'Kathmandu'], ['Shyam', 29, 'Bhaktapur'], ['Hari', 20, 'Lalitpur']]\n",
    "a.append(['Sabin', 32, 'Kaski'])\n",
    "a"
   ]
  },
  {
   "cell_type": "code",
   "execution_count": 5,
   "id": "349ec388-7aee-44dd-a897-849c1b37fd33",
   "metadata": {},
   "outputs": [
    {
     "name": "stdout",
     "output_type": "stream",
     "text": [
      "['Ram', 34, 'Kathmandu']\n",
      "['Shyam', 29, 'Bhaktapur']\n",
      "['Hari', 20, 'Lalitpur']\n",
      "['Sabin', 32, 'Kaski']\n"
     ]
    }
   ],
   "source": [
    "for i in a:\n",
    "    print(i)"
   ]
  },
  {
   "cell_type": "code",
   "execution_count": 6,
   "id": "641321bb-bf6d-48e9-be0d-5080b77176a8",
   "metadata": {},
   "outputs": [
    {
     "name": "stdout",
     "output_type": "stream",
     "text": [
      "[['Ram Prasad', 34, 'Kathmandu'], ['Shyam', 29, 'Bhaktapur'], ['Hari', 20, 'Lalitpur']]\n"
     ]
    }
   ],
   "source": [
    "a = [['Ram', 34, 'Kathmandu'], ['Shyam', 29, 'Bhaktapur'], ['Hari', 20, 'Lalitpur']]\n",
    "a[0][0] = \"Ram Prasad\"\n",
    "print(a)"
   ]
  },
  {
   "cell_type": "code",
   "execution_count": 14,
   "id": "61aaf794-4ddf-49fa-9900-1e67fd8c9d34",
   "metadata": {},
   "outputs": [
    {
     "data": {
      "text/plain": [
       "[['Ram', 34, 'Kathmandu'], ['Hari', 20, 'Lalitpur']]"
      ]
     },
     "execution_count": 14,
     "metadata": {},
     "output_type": "execute_result"
    }
   ],
   "source": [
    "a = [['Ram', 34, 'Kathmandu'], ['Shyam', 29, 'Bhaktapur'], ['Hari', 20, 'Lalitpur']]\n",
    "a.remove(['Shyam', 29, 'Bhaktapur'])\n",
    "a"
   ]
  },
  {
   "cell_type": "code",
   "execution_count": 21,
   "id": "14941dee-3331-4f36-b9ea-e9bf3bb551c2",
   "metadata": {},
   "outputs": [
    {
     "data": {
      "text/plain": [
       "[['Hari', 20, 'Lalitpur']]"
      ]
     },
     "execution_count": 21,
     "metadata": {},
     "output_type": "execute_result"
    }
   ],
   "source": [
    "a = [['Ram', 34, 'Kathmandu'], ['Shyam', 29, 'Bhaktapur'], ['Hari', 20, 'Lalitpur']]\n",
    "del a[0:2]\n",
    "a"
   ]
  },
  {
   "cell_type": "code",
   "execution_count": 17,
   "id": "4a573d6e-3c80-4b33-8ba6-fcd79345f5b6",
   "metadata": {},
   "outputs": [
    {
     "data": {
      "text/plain": [
       "[[34, 'Kathmandu'], ['Shyam', 29, 'Bhaktapur'], ['Hari', 20, 'Lalitpur']]"
      ]
     },
     "execution_count": 17,
     "metadata": {},
     "output_type": "execute_result"
    }
   ],
   "source": [
    "a = [['Ram', 34, 'Kathmandu'], ['Shyam', 29, 'Bhaktapur'], ['Hari', 20, 'Lalitpur']]\n",
    "del a[0][0]\n",
    "a"
   ]
  },
  {
   "cell_type": "code",
   "execution_count": 25,
   "id": "c5263e1f-2d40-4609-93a7-844cdd54b6a2",
   "metadata": {},
   "outputs": [
    {
     "data": {
      "text/plain": [
       "[['Ram', 34, 'Kathmandu'], ['Shyam', 29], ['Hari', 20, 'Lalitpur']]"
      ]
     },
     "execution_count": 25,
     "metadata": {},
     "output_type": "execute_result"
    }
   ],
   "source": [
    "a = [['Ram', 34, 'Kathmandu'], ['Shyam', 29, 'Bhaktapur'], ['Hari', 20, 'Lalitpur']]\n",
    "del a[1][2]\n",
    "a"
   ]
  },
  {
   "cell_type": "code",
   "execution_count": 37,
   "id": "42c0c43d-4ca1-48e4-a87d-b91aa3987f11",
   "metadata": {},
   "outputs": [
    {
     "name": "stdin",
     "output_type": "stream",
     "text": [
      "Enter a name = Ram\n"
     ]
    },
    {
     "name": "stdout",
     "output_type": "stream",
     "text": [
      "Yes\n",
      "3\n"
     ]
    }
   ],
   "source": [
    "# search\n",
    "a = ['Ram', 'Shyam', 'Hari', 'Sita', 'Gita', 'Ramesh', 'Ram', 'Ram']\n",
    "search = input(\"Enter a name =\")\n",
    "if search in a:\n",
    "    print('Yes')\n",
    "    print(a.count(search))\n",
    "else:\n",
    "    print('No')"
   ]
  },
  {
   "cell_type": "code",
   "execution_count": 66,
   "id": "5cb8eec3-59e6-4b35-88a3-48276956ffad",
   "metadata": {},
   "outputs": [
    {
     "name": "stdin",
     "output_type": "stream",
     "text": [
      "Enter a name = Ram\n"
     ]
    },
    {
     "name": "stdout",
     "output_type": "stream",
     "text": [
      "['Ram', 34, 'Kathmandu']\n",
      "['Ram', 34, 'Kaski']\n",
      "2\n"
     ]
    }
   ],
   "source": [
    "# Search in list\n",
    "c = 0\n",
    "d = []\n",
    "a = [['Ram', 34, 'Kathmandu'], ['Shyam', 29, 'Bhaktapur'], ['Hari', 20, 'Kathmandu'], ['Ram', 34, 'Kaski']] \n",
    "search = input(\"Enter a name =\")\n",
    "if search in a:\n",
    "    print(\"Yes\")\n",
    "for i in a:\n",
    "    if search in i:\n",
    "        print(i)\n",
    "        c = c+1\n",
    "print(c)"
   ]
  },
  {
   "cell_type": "code",
   "execution_count": 11,
   "id": "99df1abb-878e-49dc-b41d-0e39d4800c03",
   "metadata": {},
   "outputs": [
    {
     "name": "stdin",
     "output_type": "stream",
     "text": [
      "Enter a name = Ram\n"
     ]
    },
    {
     "name": "stdout",
     "output_type": "stream",
     "text": [
      "0\n",
      "3\n"
     ]
    }
   ],
   "source": [
    "a = [['Ram', 34, 'Kathmandu'], ['Shyam', 29, 'Bhaktapur'], ['Hari', 20, 'Kathmandu'], ['Ram', 34, 'Kaski']]\n",
    "l = len(a)\n",
    "search = input(\"Enter a name =\")\n",
    "for i in range(l):\n",
    "    if search in a[i]:\n",
    "        print(i)"
   ]
  },
  {
   "cell_type": "code",
   "execution_count": 13,
   "id": "8168bc95-7b3f-4106-96f3-3a405ac59bb6",
   "metadata": {},
   "outputs": [
    {
     "name": "stdin",
     "output_type": "stream",
     "text": [
      "Enter a name = Ram\n"
     ]
    },
    {
     "name": "stdout",
     "output_type": "stream",
     "text": [
      "[['Shyam', 29, 'Bhaktapur'], ['Hari', 20, 'Kathmandu']]\n"
     ]
    }
   ],
   "source": [
    "a = [['Ram', 34, 'Kathmandu'], ['Shyam', 29, 'Bhaktapur'], ['Hari', 20, 'Kathmandu'], ['Ram', 34, 'Kaski']]\n",
    "search = input(\"Enter a name =\")\n",
    "for i in a:\n",
    "    if search in i:\n",
    "        a.remove(i)\n",
    "print(a)"
   ]
  },
  {
   "cell_type": "code",
   "execution_count": null,
   "id": "a3e94cc1-0969-45ef-a2b5-3d01c9d3553f",
   "metadata": {},
   "outputs": [],
   "source": []
  }
 ],
 "metadata": {
  "kernelspec": {
   "display_name": "Python 3 (ipykernel)",
   "language": "python",
   "name": "python3"
  },
  "language_info": {
   "codemirror_mode": {
    "name": "ipython",
    "version": 3
   },
   "file_extension": ".py",
   "mimetype": "text/x-python",
   "name": "python",
   "nbconvert_exporter": "python",
   "pygments_lexer": "ipython3",
   "version": "3.12.7"
  }
 },
 "nbformat": 4,
 "nbformat_minor": 5
}
