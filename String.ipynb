{
 "cells": [
  {
   "cell_type": "code",
   "execution_count": 1,
   "id": "d79ed2ca-8354-4b35-a635-4bf89f2ceac9",
   "metadata": {},
   "outputs": [
    {
     "name": "stdout",
     "output_type": "stream",
     "text": [
      "<class 'str'>\n",
      "<class 'str'>\n",
      "<class 'str'>\n"
     ]
    }
   ],
   "source": [
    "# String\n",
    "a = \"Hello World\"\n",
    "b = 'Hello World'\n",
    "c = '''Hello World'''\n",
    "print(type(a))\n",
    "print(type(b))\n",
    "print(type(c))"
   ]
  },
  {
   "cell_type": "code",
   "execution_count": 2,
   "id": "f3043594-4206-49f5-af23-b7c3cc4661a8",
   "metadata": {},
   "outputs": [
    {
     "name": "stdout",
     "output_type": "stream",
     "text": [
      "<class 'str'>\n"
     ]
    }
   ],
   "source": [
    "a = '10'\n",
    "print(type(a))"
   ]
  },
  {
   "cell_type": "code",
   "execution_count": 5,
   "id": "3be58c16-a4b8-4585-8a0f-c713aa46b900",
   "metadata": {},
   "outputs": [
    {
     "name": "stdin",
     "output_type": "stream",
     "text": [
      "Enter a = 10\n"
     ]
    },
    {
     "name": "stdout",
     "output_type": "stream",
     "text": [
      "<class 'str'>\n"
     ]
    }
   ],
   "source": [
    "a = input(\"Enter a =\")\n",
    "print(type(a))"
   ]
  },
  {
   "cell_type": "code",
   "execution_count": 7,
   "id": "872ad920-2cc1-495a-a1c4-0e9d98c69124",
   "metadata": {},
   "outputs": [
    {
     "name": "stdout",
     "output_type": "stream",
     "text": [
      "Hello World\n"
     ]
    }
   ],
   "source": [
    "# + *\n",
    "a = 'Hello'\n",
    "b = ' World'\n",
    "c = a+b\n",
    "print(c)"
   ]
  },
  {
   "cell_type": "code",
   "execution_count": 10,
   "id": "c5d8aef7-b398-483e-85c3-88fd0a48fc88",
   "metadata": {},
   "outputs": [
    {
     "name": "stdout",
     "output_type": "stream",
     "text": [
      "Hello World Hello World Hello World \n"
     ]
    }
   ],
   "source": [
    "a = 'Hello World '\n",
    "print(a*3)"
   ]
  },
  {
   "cell_type": "code",
   "execution_count": 17,
   "id": "15982c62-9c38-4490-957b-2aae92884e7f",
   "metadata": {
    "scrolled": true
   },
   "outputs": [
    {
     "name": "stdout",
     "output_type": "stream",
     "text": [
      "l\n",
      "Hello\n",
      "HloWrd\n"
     ]
    }
   ],
   "source": [
    "a = 'Hello World'\n",
    "print(a[3])\n",
    "print(a[0:5])\n",
    "print(a[0:11:2])"
   ]
  },
  {
   "cell_type": "code",
   "execution_count": 11,
   "id": "3929cfbf-7ea2-419f-ad24-0f3fb6d5d410",
   "metadata": {},
   "outputs": [
    {
     "name": "stdout",
     "output_type": "stream",
     "text": [
      "H\n",
      "e\n",
      "l\n",
      "l\n",
      "o\n",
      " \n",
      "W\n",
      "o\n",
      "r\n",
      "l\n",
      "d\n"
     ]
    }
   ],
   "source": [
    "a = 'Hello World'\n",
    "l = len(a)\n",
    "for i in range(l):\n",
    "    print(a[i])"
   ]
  },
  {
   "cell_type": "code",
   "execution_count": 1,
   "id": "55c9ddf0-e426-4c74-9126-162fbd3c8940",
   "metadata": {},
   "outputs": [
    {
     "name": "stdout",
     "output_type": "stream",
     "text": [
      "H\n",
      "e\n",
      "l\n",
      "l\n",
      "o\n",
      " \n",
      "W\n",
      "o\n",
      "r\n",
      "l\n",
      "d\n"
     ]
    }
   ],
   "source": [
    "a = 'Hello World'\n",
    "i = 0\n",
    "l = len(a)\n",
    "while i<l:\n",
    "    print(a[i])\n",
    "    i = i+1"
   ]
  },
  {
   "cell_type": "code",
   "execution_count": 14,
   "id": "68f5dde4-9482-4487-aa36-5a06f8fe4e6c",
   "metadata": {},
   "outputs": [
    {
     "name": "stdin",
     "output_type": "stream",
     "text": [
      "Enter name = Ram\n",
      "Enter age = 10\n",
      "Enter address = Kathmandu\n"
     ]
    },
    {
     "name": "stdout",
     "output_type": "stream",
     "text": [
      "Hello World, I am Ram. I am from Kathmandu. I am 10.\n"
     ]
    }
   ],
   "source": [
    "# String\n",
    "name = input(\"Enter name =\")\n",
    "age = int(input(\"Enter age =\"))\n",
    "address = input(\"Enter address =\")\n",
    "info = \"Hello World, I am \" + name + '.' + ' I am from ' + address + '.' + ' I am ' + str(age) + '.'\n",
    "print(info)"
   ]
  },
  {
   "cell_type": "code",
   "execution_count": 20,
   "id": "013c542f-c47c-4a74-ad7b-f073fd322b23",
   "metadata": {},
   "outputs": [
    {
     "name": "stdin",
     "output_type": "stream",
     "text": [
      "Enter name = Ram\n",
      "Enter age = 10\n",
      "Enter address = Kathmandu\n"
     ]
    },
    {
     "name": "stdout",
     "output_type": "stream",
     "text": [
      "Hello World, I am Ram. I am from Kathmandu. I am 10\n"
     ]
    }
   ],
   "source": [
    "# String Formatting\n",
    "name = input(\"Enter name =\")\n",
    "age = int(input(\"Enter age =\"))\n",
    "address = input(\"Enter address =\")\n",
    "\n",
    "info = f\"Hello World, I am {name}. I am from {address}. I am {age}\"\n",
    "print(info)"
   ]
  },
  {
   "cell_type": "code",
   "execution_count": 21,
   "id": "a1335c67-ac06-44b2-8819-a161e51eb396",
   "metadata": {},
   "outputs": [
    {
     "name": "stdin",
     "output_type": "stream",
     "text": [
      "Enter a value = 2\n",
      "Enter name = Ram\n",
      "Enter number = 232323232\n",
      "Enter name = Hari\n",
      "Enter number = 09029302392\n"
     ]
    },
    {
     "name": "stdout",
     "output_type": "stream",
     "text": [
      "Ram 232323232 \n",
      "Hari 09029302392 \n",
      "\n"
     ]
    }
   ],
   "source": [
    "# WAP to store name and phone number of a given people\n",
    "s = \"\"\n",
    "b = int(input(\"Enter a value =\"))\n",
    "for i in range(b):\n",
    "    n = input(\"Enter name =\")\n",
    "    c = input(\"Enter number =\")\n",
    "    s = s + f\"{n} {c} \\n\"\n",
    "print(s)"
   ]
  },
  {
   "cell_type": "code",
   "execution_count": 46,
   "id": "bdcdcc8b-a48f-4588-a9a2-c5667935ed79",
   "metadata": {},
   "outputs": [
    {
     "name": "stdin",
     "output_type": "stream",
     "text": [
      "Enter string = ram\n"
     ]
    },
    {
     "name": "stdout",
     "output_type": "stream",
     "text": [
      "Yes\n",
      "4\n"
     ]
    }
   ],
   "source": [
    "# Search in String\n",
    "a = \"Ram Shyam Hari Sita Rabi Nabin Ram Ram Ram\".lower()\n",
    "search = input(\"Enter string =\").lower()\n",
    "if search in a:\n",
    "    print(\"Yes\")\n",
    "    print(a.count(search))\n",
    "else:\n",
    "    print(\"No\")"
   ]
  },
  {
   "cell_type": "code",
   "execution_count": 38,
   "id": "88b1a907-f496-4b22-96c6-f2ef3aaad76c",
   "metadata": {},
   "outputs": [
    {
     "name": "stdout",
     "output_type": "stream",
     "text": [
      "RAM SHYAM HARI SITA\n",
      "ram shyam hari sita\n"
     ]
    }
   ],
   "source": [
    "# Upper\n",
    "# Lower\n",
    "a = 'Ram Shyam Hari Sita'\n",
    "print(a.upper())\n",
    "print(a.lower())"
   ]
  },
  {
   "cell_type": "code",
   "execution_count": 39,
   "id": "8f234935-2c59-42d5-9e62-06e1bc2289d5",
   "metadata": {},
   "outputs": [
    {
     "name": "stdout",
     "output_type": "stream",
     "text": [
      "ram shyam hari sita rabi nabin ram ram ram\n",
      "ram\n"
     ]
    }
   ],
   "source": [
    "a = \"Ram Shyam Hari Sita Rabi Nabin Ram Ram Ram\".lower()\n",
    "b = \"rAm\".lower()\n",
    "print(a)\n",
    "print(b)"
   ]
  },
  {
   "cell_type": "code",
   "execution_count": 48,
   "id": "3fa79f11-2b4f-4cb9-84ce-fded64e81eb5",
   "metadata": {},
   "outputs": [
    {
     "name": "stdout",
     "output_type": "stream",
     "text": [
      "Rama Shyam Hari Sita Rabi Nabin Rama Rama Rama\n"
     ]
    }
   ],
   "source": [
    "# Replace \n",
    "a = \"Ram Shyam Hari Sita Rabi Nabin Ram Ram Ram\"\n",
    "a = a.replace(\"Ram\", \"Rama\")\n",
    "print(a)"
   ]
  },
  {
   "cell_type": "code",
   "execution_count": 49,
   "id": "cf395616-1c0c-4c3e-809e-ede4ada91fba",
   "metadata": {},
   "outputs": [
    {
     "name": "stdout",
     "output_type": "stream",
     "text": [
      "Rama Shyam Hari Sita Rabi Nabin Rama Ramaesh Rama\n"
     ]
    }
   ],
   "source": [
    "a = \"Ram Shyam Hari Sita Rabi Nabin Ram Ramesh Ram\"\n",
    "a = a.replace(\"Ram\", \"Rama\")\n",
    "print(a)"
   ]
  },
  {
   "cell_type": "code",
   "execution_count": null,
   "id": "335f627f-4534-4fcc-8963-8e51125bd2cb",
   "metadata": {},
   "outputs": [],
   "source": [
    "# LIST"
   ]
  }
 ],
 "metadata": {
  "kernelspec": {
   "display_name": "Python 3 (ipykernel)",
   "language": "python",
   "name": "python3"
  },
  "language_info": {
   "codemirror_mode": {
    "name": "ipython",
    "version": 3
   },
   "file_extension": ".py",
   "mimetype": "text/x-python",
   "name": "python",
   "nbconvert_exporter": "python",
   "pygments_lexer": "ipython3",
   "version": "3.12.7"
  }
 },
 "nbformat": 4,
 "nbformat_minor": 5
}
