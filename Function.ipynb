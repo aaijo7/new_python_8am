{
 "cells": [
  {
   "cell_type": "code",
   "execution_count": 1,
   "id": "73b3d592-c64e-4092-aa75-59de984942e1",
   "metadata": {},
   "outputs": [],
   "source": [
    "# Function"
   ]
  },
  {
   "cell_type": "code",
   "execution_count": 2,
   "id": "ec2abf55-daf7-4271-9f6b-8b049da2f640",
   "metadata": {},
   "outputs": [],
   "source": [
    "# Pre-defined Function\n",
    "# print() type() int() float() str() list() tuple() dict()"
   ]
  },
  {
   "cell_type": "code",
   "execution_count": 3,
   "id": "1b188499-1b9e-46b9-a94d-23097896f5a0",
   "metadata": {},
   "outputs": [],
   "source": [
    "# User-definedd Function\n",
    "\n",
    "# def <function_name>():\n",
    "#    <operatins>o\n",
    "\n",
    "#  <function_name>()"
   ]
  },
  {
   "cell_type": "code",
   "execution_count": 4,
   "id": "05873873-1d2b-4492-aed4-89cdddf7881a",
   "metadata": {},
   "outputs": [
    {
     "name": "stdout",
     "output_type": "stream",
     "text": [
      "Hello World\n"
     ]
    }
   ],
   "source": [
    "def hello():\n",
    "    print(\"Hello World\")\n",
    "    \n",
    "hello()"
   ]
  },
  {
   "cell_type": "code",
   "execution_count": null,
   "id": "19ec6e14-929e-4138-93b5-79076f718439",
   "metadata": {},
   "outputs": [],
   "source": [
    "# Function without argument and non return type"
   ]
  },
  {
   "cell_type": "code",
   "execution_count": 9,
   "id": "62348b41-c273-485f-95a2-7ba53d808de7",
   "metadata": {},
   "outputs": [
    {
     "name": "stdout",
     "output_type": "stream",
     "text": [
      "25\n"
     ]
    }
   ],
   "source": [
    "def area():\n",
    "    l = 5                  # Local variable\n",
    "    b = 5                  # Local variable\n",
    "    a = l*b                # Local variable\n",
    "    print(a)\n",
    "    \n",
    "area()"
   ]
  },
  {
   "cell_type": "code",
   "execution_count": 12,
   "id": "5bafbcac-d04e-44ff-a14b-e2ffd79b6549",
   "metadata": {},
   "outputs": [
    {
     "name": "stdout",
     "output_type": "stream",
     "text": [
      "50\n"
     ]
    }
   ],
   "source": [
    "l = 10           # Global variable \n",
    "b = 5            # Global variable\n",
    "def area():\n",
    "    a = l*b\n",
    "    print(a)\n",
    "area()"
   ]
  },
  {
   "cell_type": "code",
   "execution_count": 18,
   "id": "53aa25f4-45f1-4328-9551-223e5f10c395",
   "metadata": {},
   "outputs": [
    {
     "name": "stdout",
     "output_type": "stream",
     "text": [
      "50\n"
     ]
    }
   ],
   "source": [
    "# Function with arguments\n",
    "def area(l,b):   # l,b is parameter\n",
    "    a = l*b\n",
    "    print(a)\n",
    "\n",
    "area(10, 5)      # 10,5 is an argument"
   ]
  },
  {
   "cell_type": "code",
   "execution_count": 23,
   "id": "106347bc-f8f8-4eaf-8dee-15c26c248f2b",
   "metadata": {},
   "outputs": [
    {
     "name": "stdin",
     "output_type": "stream",
     "text": [
      "Enter name = Nischal\n",
      "Enter age = 10\n",
      "Enter address = Kathmandu\n"
     ]
    },
    {
     "name": "stdout",
     "output_type": "stream",
     "text": [
      "Hello World, I am Nischal. I am from Kathmandu. I am 10 years old.\n"
     ]
    }
   ],
   "source": [
    "def info(x):\n",
    "    data = f\"Hello World, I am {name}. I am from {add}. I am {age} years old.\"\n",
    "    print(data)\n",
    "name = input(\"Enter name =\")\n",
    "age = int(input(\"Enter age =\"))\n",
    "add = input(\"Enter address =\")\n",
    "x = [name, age, add]\n",
    "info(x)"
   ]
  },
  {
   "cell_type": "code",
   "execution_count": 25,
   "id": "332bdbcf-70d0-4235-83ad-ba26039b7561",
   "metadata": {},
   "outputs": [
    {
     "name": "stdout",
     "output_type": "stream",
     "text": [
      "Php\n",
      "C\n",
      "C++\n",
      "Java\n",
      "Python\n"
     ]
    }
   ],
   "source": [
    "def language(x = \"Python\"):\n",
    "    print(x)\n",
    "\n",
    "language('Php')\n",
    "language('C')\n",
    "language('C++')\n",
    "language('Java')\n",
    "language()"
   ]
  },
  {
   "cell_type": "code",
   "execution_count": 31,
   "id": "54e292c4-0d95-4428-bb15-b5ba4fd23112",
   "metadata": {},
   "outputs": [
    {
     "name": "stdout",
     "output_type": "stream",
     "text": [
      "Hello World, I am Python.\n"
     ]
    }
   ],
   "source": [
    "# Return type\n",
    "def hello():\n",
    "    return(\"Hello World\")\n",
    "\n",
    "x = hello()\n",
    "info = f\"{x}, I am Python.\"\n",
    "print(info)"
   ]
  },
  {
   "cell_type": "code",
   "execution_count": 35,
   "id": "36228821-46cf-4ce5-9647-b5778d8f78c6",
   "metadata": {},
   "outputs": [
    {
     "name": "stdout",
     "output_type": "stream",
     "text": [
      "24\n"
     ]
    }
   ],
   "source": [
    "def area(l,b):\n",
    "    a = l*b\n",
    "    return a\n",
    "\n",
    "l = 2\n",
    "b = 3\n",
    "h = 4\n",
    "\n",
    "a = area(l,b)\n",
    "v = a*h\n",
    "print(v)"
   ]
  },
  {
   "cell_type": "code",
   "execution_count": 41,
   "id": "16b69d1f-a48f-4815-8171-2f7042200a12",
   "metadata": {},
   "outputs": [
    {
     "name": "stdout",
     "output_type": "stream",
     "text": [
      "6\n",
      "24\n"
     ]
    }
   ],
   "source": [
    "def cal(l,b,h):\n",
    "    a = l*b\n",
    "    v = a*h\n",
    "    return a,v\n",
    "\n",
    "l = 2\n",
    "b = 3\n",
    "h = 4\n",
    "\n",
    "area, volume = (cal(l,b,h))\n",
    "print(area)\n",
    "print(volume)"
   ]
  },
  {
   "cell_type": "code",
   "execution_count": 44,
   "id": "fc8d13fa-92ba-487a-87db-f3528ad087b3",
   "metadata": {},
   "outputs": [
    {
     "name": "stdin",
     "output_type": "stream",
     "text": [
      "Enter a = 10\n",
      "Enter b = 20\n",
      "Enter + or - or / or * =  +\n"
     ]
    },
    {
     "name": "stdout",
     "output_type": "stream",
     "text": [
      "30\n"
     ]
    }
   ],
   "source": [
    "def add(a,b):\n",
    "    return a + b\n",
    "def sub(a,b):\n",
    "    return a-b\n",
    "def mul(a,b):\n",
    "    return a*b\n",
    "def div(a,b):\n",
    "    return a/b\n",
    "    \n",
    "a = int(input(\"Enter a =\"))\n",
    "b = int(input(\"Enter b =\"))\n",
    "o = input(\"Enter + or - or / or * = \")\n",
    "if o == '+':\n",
    "    print(add(a,b))\n",
    "elif o == '-':\n",
    "    print(sub(a,b))\n",
    "elif o == '/':\n",
    "    print(div(a,b)) \n",
    "elif o == '*':\n",
    "    print(mul(a,b))\n",
    "else:\n",
    "    print(\"Invalid operator\")"
   ]
  },
  {
   "cell_type": "code",
   "execution_count": 50,
   "id": "05904ad5-08c7-495f-81de-ded5044f9092",
   "metadata": {},
   "outputs": [
    {
     "name": "stdout",
     "output_type": "stream",
     "text": [
      "Hello World\n"
     ]
    },
    {
     "name": "stdin",
     "output_type": "stream",
     "text": [
      "Enter y for more print = t\n"
     ]
    }
   ],
   "source": [
    "# Recursive Function\n",
    "def hello():\n",
    "    print(\"Hello World\")\n",
    "    x = input(\"Enter y for more print =\")\n",
    "    if x == 'y':\n",
    "        hello()\n",
    "\n",
    "hello()"
   ]
  },
  {
   "cell_type": "code",
   "execution_count": 54,
   "id": "5e1ce2a2-4b87-4a3c-a297-2a49a998a4ac",
   "metadata": {},
   "outputs": [
    {
     "name": "stdout",
     "output_type": "stream",
     "text": [
      "9\n"
     ]
    }
   ],
   "source": [
    "# Lambda Function\n",
    "# lambda <argument>: <operations>\n",
    "x = lambda a:a**2\n",
    "print(x(3))"
   ]
  },
  {
   "cell_type": "code",
   "execution_count": 55,
   "id": "67ee0ad8-f555-4c1b-9d37-746d9ca013df",
   "metadata": {},
   "outputs": [
    {
     "name": "stdout",
     "output_type": "stream",
     "text": [
      "50\n"
     ]
    }
   ],
   "source": [
    "x = lambda l,b:l*b\n",
    "print(x(10,5))"
   ]
  },
  {
   "cell_type": "code",
   "execution_count": 57,
   "id": "2e4000e7-4229-4a2f-beb4-59d4ba026dcb",
   "metadata": {},
   "outputs": [
    {
     "data": {
      "text/plain": [
       "'HELLO WORLD'"
      ]
     },
     "execution_count": 57,
     "metadata": {},
     "output_type": "execute_result"
    }
   ],
   "source": [
    "x = lambda s:s.upper()\n",
    "x(\"Hello World\")"
   ]
  },
  {
   "cell_type": "code",
   "execution_count": null,
   "id": "a4c299a3-c158-4fa9-a702-6dd5509d828f",
   "metadata": {},
   "outputs": [],
   "source": []
  }
 ],
 "metadata": {
  "kernelspec": {
   "display_name": "Python 3 (ipykernel)",
   "language": "python",
   "name": "python3"
  },
  "language_info": {
   "codemirror_mode": {
    "name": "ipython",
    "version": 3
   },
   "file_extension": ".py",
   "mimetype": "text/x-python",
   "name": "python",
   "nbconvert_exporter": "python",
   "pygments_lexer": "ipython3",
   "version": "3.12.7"
  }
 },
 "nbformat": 4,
 "nbformat_minor": 5
}
