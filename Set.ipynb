{
 "cells": [
  {
   "cell_type": "code",
   "execution_count": 1,
   "id": "1981b4d8-9ba0-46f4-96af-7f75856a1bda",
   "metadata": {},
   "outputs": [],
   "source": [
    "# SET\n",
    "# - No indexing\n",
    "# - Multiple but no duplicate\n",
    "# - Unordered\n",
    "# - Mutable"
   ]
  },
  {
   "cell_type": "code",
   "execution_count": 3,
   "id": "76549dee-c22b-4220-bb79-a9005558a825",
   "metadata": {},
   "outputs": [
    {
     "name": "stdout",
     "output_type": "stream",
     "text": [
      "<class 'set'>\n"
     ]
    }
   ],
   "source": [
    "s = set()\n",
    "print(type(s))"
   ]
  },
  {
   "cell_type": "code",
   "execution_count": 13,
   "id": "7e125723-dac9-40ac-b4d7-658764edb167",
   "metadata": {},
   "outputs": [
    {
     "name": "stdout",
     "output_type": "stream",
     "text": [
      "{1, 2, 4, 5}\n"
     ]
    }
   ],
   "source": [
    "s = {1,2,4,5}\n",
    "print(s)"
   ]
  },
  {
   "cell_type": "code",
   "execution_count": 12,
   "id": "12c581af-3345-48d5-8300-bc3764de0c20",
   "metadata": {},
   "outputs": [
    {
     "name": "stdout",
     "output_type": "stream",
     "text": [
      "{'Dog', 'Cat', 'Ball', 'Fish', 'Apple'}\n"
     ]
    }
   ],
   "source": [
    "s = {'Apple', 'Ball', 'Cat', 'Dog', 'Fish'}\n",
    "print(s)"
   ]
  },
  {
   "cell_type": "code",
   "execution_count": 17,
   "id": "29f24697-2785-428a-86c9-f8d0a5fd4ff7",
   "metadata": {},
   "outputs": [
    {
     "name": "stdout",
     "output_type": "stream",
     "text": [
      "{'Ball', 'Cat', 'Apple'}\n"
     ]
    }
   ],
   "source": [
    "# Insert data into set\n",
    "s = set()\n",
    "s.add(\"Apple\")\n",
    "s.add(\"Ball\")\n",
    "s.add(\"Cat\")\n",
    "print(s)"
   ]
  },
  {
   "cell_type": "code",
   "execution_count": 21,
   "id": "dea56ce1-c9c9-4538-b286-8f3efde79187",
   "metadata": {},
   "outputs": [
    {
     "name": "stdout",
     "output_type": "stream",
     "text": [
      "{'Ball', 'Cat'}\n"
     ]
    }
   ],
   "source": [
    "# Remove \n",
    "s = {'Apple', 'Ball', 'Cat'}\n",
    "s.remove('Apple')\n",
    "print(s)"
   ]
  },
  {
   "cell_type": "code",
   "execution_count": 24,
   "id": "a7e82608-d5fb-466a-896b-0c5072c2c263",
   "metadata": {},
   "outputs": [],
   "source": [
    "# There is no any mutable datatype inside set\n",
    "# No list inside set\n",
    "# No dictionary inside set\n",
    "# No set inside set\n",
    "# There no use of any operator in {}"
   ]
  },
  {
   "cell_type": "code",
   "execution_count": null,
   "id": "737235ce-f695-4fdd-95e7-418c4990bebb",
   "metadata": {},
   "outputs": [],
   "source": [
    "# Update\n",
    "# Union\n",
    "# Intersection\n",
    "# Difference"
   ]
  },
  {
   "cell_type": "code",
   "execution_count": 23,
   "id": "5ec8d3e9-dff7-4edd-8b31-47553883dc19",
   "metadata": {},
   "outputs": [
    {
     "name": "stdout",
     "output_type": "stream",
     "text": [
      "{1, 2, 3, 4, 5, 6, 7, 8, 9, 10}\n"
     ]
    }
   ],
   "source": [
    "a = {1,2,3,4,5}\n",
    "b = {6,7,8,9,10}\n",
    "a.update(b)\n",
    "print(a)"
   ]
  },
  {
   "cell_type": "code",
   "execution_count": 28,
   "id": "ad6a1730-8d0d-4d64-8d5e-3fc7d7e09f02",
   "metadata": {},
   "outputs": [
    {
     "name": "stdout",
     "output_type": "stream",
     "text": [
      "common HR =  {'Ram', 'Hari'}\n",
      "merged HR = {'John', 'Steve', 'Sajan', 'Ashok', 'Jack', 'Balaram', 'Bill', 'Ram', 'William', 'Hari', 'Raj'}\n"
     ]
    }
   ],
   "source": [
    "U = {\"Shyam\", 'Raju','Jack', 'John', 'Bill', 'Ram', 'Hari', 'Balaram','Steve', 'Ashok', 'Sajan', 'Raj', 'Ram', 'Hari', 'William'}\n",
    "ms = {'Jack', 'John', 'Bill', 'Ram', 'Hari', 'Balaram'}\n",
    "apple = {'Steve', 'Ashok', 'Sajan', 'Raj', 'Ram', 'Hari', 'William'}\n",
    "\n",
    "common = ms.intersection(apple)\n",
    "\n",
    "merge = ms.union(apple)\n",
    "print('common HR = ', common)\n",
    "print('merged HR =', merge)"
   ]
  },
  {
   "cell_type": "code",
   "execution_count": 29,
   "id": "bafd3232-59e9-430d-a61c-8edc56fe1338",
   "metadata": {},
   "outputs": [
    {
     "name": "stdout",
     "output_type": "stream",
     "text": [
      " Only MS = {'John', 'Balaram', 'Bill', 'Jack'}\n"
     ]
    }
   ],
   "source": [
    "print(\" Only MS =\", ms-apple)"
   ]
  },
  {
   "cell_type": "code",
   "execution_count": 30,
   "id": "ee1a0e73-c7a2-4980-9092-836b2cae2a4c",
   "metadata": {},
   "outputs": [
    {
     "name": "stdout",
     "output_type": "stream",
     "text": [
      "Only Apple = {'Steve', 'Sajan', 'Ashok', 'William', 'Raj'}\n"
     ]
    }
   ],
   "source": [
    "print(\"Only Apple =\", apple-ms)"
   ]
  },
  {
   "cell_type": "code",
   "execution_count": 31,
   "id": "c83b5029-d248-40f1-ac85-99d316ccfafd",
   "metadata": {},
   "outputs": [
    {
     "name": "stdout",
     "output_type": "stream",
     "text": [
      "Unemployed = {'Shyam', 'Raju'}\n"
     ]
    }
   ],
   "source": [
    "print(\"Unemployed =\", U-merge)"
   ]
  },
  {
   "cell_type": "code",
   "execution_count": 33,
   "id": "dcd47601-f337-47ba-8351-f38847cbb3ca",
   "metadata": {},
   "outputs": [],
   "source": [
    "# subset()\n",
    "# superset()\n",
    "# disjoint()"
   ]
  }
 ],
 "metadata": {
  "kernelspec": {
   "display_name": "Python 3 (ipykernel)",
   "language": "python",
   "name": "python3"
  },
  "language_info": {
   "codemirror_mode": {
    "name": "ipython",
    "version": 3
   },
   "file_extension": ".py",
   "mimetype": "text/x-python",
   "name": "python",
   "nbconvert_exporter": "python",
   "pygments_lexer": "ipython3",
   "version": "3.12.7"
  }
 },
 "nbformat": 4,
 "nbformat_minor": 5
}
