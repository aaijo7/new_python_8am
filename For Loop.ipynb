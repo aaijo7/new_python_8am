{
 "cells": [
  {
   "cell_type": "code",
   "execution_count": null,
   "id": "83fbc3d2-9436-4e75-99f2-a980a84dd84b",
   "metadata": {},
   "outputs": [],
   "source": [
    "# For loop\n",
    "# While loop"
   ]
  },
  {
   "cell_type": "code",
   "execution_count": 4,
   "id": "4b6819e5-a764-4b9b-b465-459c17a26f17",
   "metadata": {},
   "outputs": [
    {
     "data": {
      "text/plain": [
       "range(1, 10, 2)"
      ]
     },
     "execution_count": 4,
     "metadata": {},
     "output_type": "execute_result"
    }
   ],
   "source": [
    "# 1. For loop\n",
    "range(5)  # 0,1,2,3,4\n",
    "range(1,5) # 1,2,3,4\n",
    "range(1,10,2) # 1,3,5,7,9"
   ]
  },
  {
   "cell_type": "code",
   "execution_count": 11,
   "id": "661caecb-4139-412f-860a-59fd220058bc",
   "metadata": {},
   "outputs": [
    {
     "name": "stdout",
     "output_type": "stream",
     "text": [
      "0 Hello World\n",
      "1 Hello World\n"
     ]
    }
   ],
   "source": [
    "for i in range(2):\n",
    "    print(i,\"Hello World\")"
   ]
  },
  {
   "cell_type": "code",
   "execution_count": 12,
   "id": "0e4df2dc-abe0-4537-8990-1948dcea5816",
   "metadata": {},
   "outputs": [
    {
     "name": "stdout",
     "output_type": "stream",
     "text": [
      "1 Hello World\n"
     ]
    }
   ],
   "source": [
    "for i in range(1,2):\n",
    "    print(i,\"Hello World\")"
   ]
  },
  {
   "cell_type": "code",
   "execution_count": 13,
   "id": "82993c7c-beda-484e-ac4e-487d46de7dd1",
   "metadata": {},
   "outputs": [
    {
     "name": "stdout",
     "output_type": "stream",
     "text": [
      "1 Hello World\n",
      "3 Hello World\n",
      "5 Hello World\n",
      "7 Hello World\n",
      "9 Hello World\n"
     ]
    }
   ],
   "source": [
    "for i in range(1,10,2):\n",
    "    print(i,\"Hello World\")"
   ]
  },
  {
   "cell_type": "code",
   "execution_count": 15,
   "id": "965ad518-af5a-4a3d-b15c-628f991a9b84",
   "metadata": {},
   "outputs": [
    {
     "name": "stdout",
     "output_type": "stream",
     "text": [
      "10 Hello World\n",
      "8 Hello World\n",
      "6 Hello World\n",
      "4 Hello World\n",
      "2 Hello World\n"
     ]
    }
   ],
   "source": [
    "for i in range(10,1,-2):\n",
    "    print(i,\"Hello World\")"
   ]
  },
  {
   "cell_type": "code",
   "execution_count": 19,
   "id": "f5a3a4c7-789e-44c1-a757-65bd2fbe12cf",
   "metadata": {},
   "outputs": [
    {
     "name": "stdin",
     "output_type": "stream",
     "text": [
      "Enter a number = 5\n"
     ]
    },
    {
     "name": "stdout",
     "output_type": "stream",
     "text": [
      "5 x 1 = 5\n",
      "5 x 2 = 10\n",
      "5 x 3 = 15\n",
      "5 x 4 = 20\n",
      "5 x 5 = 25\n",
      "5 x 6 = 30\n",
      "5 x 7 = 35\n",
      "5 x 8 = 40\n",
      "5 x 9 = 45\n",
      "5 x 10 = 50\n"
     ]
    }
   ],
   "source": [
    "# WAP to create a multiplication table\n",
    "n = int(input(\"Enter a number =\"))\n",
    "for i in range(1,11):\n",
    "    print(n, \"x\", i, \"=\", n*i)"
   ]
  },
  {
   "cell_type": "code",
   "execution_count": 22,
   "id": "0a367e60-e5ac-4a8c-970f-7ef21ae1edfc",
   "metadata": {},
   "outputs": [
    {
     "name": "stdin",
     "output_type": "stream",
     "text": [
      "Enter the value of n = 3\n",
      "Enter the value of x = 1000\n"
     ]
    },
    {
     "name": "stdout",
     "output_type": "stream",
     "text": [
      "1000\n"
     ]
    },
    {
     "name": "stdin",
     "output_type": "stream",
     "text": [
      "Enter the value of x = 2000\n"
     ]
    },
    {
     "name": "stdout",
     "output_type": "stream",
     "text": [
      "3000\n"
     ]
    },
    {
     "name": "stdin",
     "output_type": "stream",
     "text": [
      "Enter the value of x = 3000\n"
     ]
    },
    {
     "name": "stdout",
     "output_type": "stream",
     "text": [
      "6000\n"
     ]
    }
   ],
   "source": [
    "s = 0\n",
    "n = int(input(\"Enter the value of n =\"))\n",
    "for i in range(n):\n",
    "    x = int(input(\"Enter the value of x =\"))\n",
    "    s = s + x\n",
    "    print(s)"
   ]
  },
  {
   "cell_type": "code",
   "execution_count": 35,
   "id": "b21bd051-c4f5-43be-8e22-9e7458f88f40",
   "metadata": {},
   "outputs": [
    {
     "name": "stdin",
     "output_type": "stream",
     "text": [
      "Enter n = 5\n",
      "Enter x = 1000\n"
     ]
    },
    {
     "name": "stdout",
     "output_type": "stream",
     "text": [
      "1100.0\n"
     ]
    },
    {
     "name": "stdin",
     "output_type": "stream",
     "text": [
      "Enter x = 2000\n"
     ]
    },
    {
     "name": "stdout",
     "output_type": "stream",
     "text": [
      "3300.0\n"
     ]
    },
    {
     "name": "stdin",
     "output_type": "stream",
     "text": [
      "Enter x = 3000\n"
     ]
    },
    {
     "name": "stdout",
     "output_type": "stream",
     "text": [
      "6600.0\n"
     ]
    },
    {
     "name": "stdin",
     "output_type": "stream",
     "text": [
      "Enter x = 4000\n"
     ]
    },
    {
     "name": "stdout",
     "output_type": "stream",
     "text": [
      "11000.0\n"
     ]
    },
    {
     "name": "stdin",
     "output_type": "stream",
     "text": [
      "Enter x = 5000\n"
     ]
    },
    {
     "name": "stdout",
     "output_type": "stream",
     "text": [
      "16500.0\n"
     ]
    }
   ],
   "source": [
    "s = 0\n",
    "n = int(input(\"Enter n =\"))\n",
    "for i in range(n):\n",
    "    x = int(input(\"Enter x =\"))\n",
    "    s = s + x*1.1\n",
    "    print(s)"
   ]
  },
  {
   "cell_type": "code",
   "execution_count": 44,
   "id": "faf2a6a8-7b93-4591-87a4-b07b4167fc4f",
   "metadata": {},
   "outputs": [
    {
     "name": "stdin",
     "output_type": "stream",
     "text": [
      "Enter k = 3\n",
      "Enter student's name = Nischal\n"
     ]
    },
    {
     "name": "stdout",
     "output_type": "stream",
     "text": [
      "Nischal\n",
      "\n"
     ]
    },
    {
     "name": "stdin",
     "output_type": "stream",
     "text": [
      "Enter student's name = Ram\n"
     ]
    },
    {
     "name": "stdout",
     "output_type": "stream",
     "text": [
      "Nischal\n",
      "Ram\n",
      "\n"
     ]
    },
    {
     "name": "stdin",
     "output_type": "stream",
     "text": [
      "Enter student's name = Hari\n"
     ]
    },
    {
     "name": "stdout",
     "output_type": "stream",
     "text": [
      "Nischal\n",
      "Ram\n",
      "Hari\n",
      "\n"
     ]
    }
   ],
   "source": [
    "s = \"\"\n",
    "k = int(input(\"Enter k =\"))\n",
    "for i in range(k):\n",
    "    n = input(\"Enter student's name =\")\n",
    "    s = s + n + \"\\n\"\n",
    "    print(s)"
   ]
  },
  {
   "cell_type": "code",
   "execution_count": 32,
   "id": "63814f49-5476-4d57-a5ca-6d7aa9ed6eaa",
   "metadata": {},
   "outputs": [
    {
     "name": "stdin",
     "output_type": "stream",
     "text": [
      "Enter a number = 5\n"
     ]
    },
    {
     "name": "stdout",
     "output_type": "stream",
     "text": [
      "15\n"
     ]
    }
   ],
   "source": [
    "# WAP to find sum of all values (from 1 to itself)\n",
    "# 5 = 1+2+3+4+5\n",
    "s = 0\n",
    "n = int(input(\"Enter a number =\"))\n",
    "for i in range(1,n+1):\n",
    "    s = s + i\n",
    "print(s)"
   ]
  },
  {
   "cell_type": "code",
   "execution_count": 8,
   "id": "49bc79ee-6232-442c-94ec-64cbb7cd0a11",
   "metadata": {},
   "outputs": [
    {
     "name": "stdin",
     "output_type": "stream",
     "text": [
      "Enter a number = 5\n"
     ]
    },
    {
     "name": "stdout",
     "output_type": "stream",
     "text": [
      "120\n"
     ]
    }
   ],
   "source": [
    "# WAP to find factorial of numbers\n",
    "# 5! --> 1*2*3*4*5\n",
    "s = 1\n",
    "n = int(input(\"Enter a number =\"))\n",
    "for i in range(1,n+1):\n",
    "    s = s*i\n",
    "print (s)"
   ]
  },
  {
   "cell_type": "code",
   "execution_count": null,
   "id": "32976113-d5c8-4b71-87a6-666cbe3d22b7",
   "metadata": {},
   "outputs": [],
   "source": []
  },
  {
   "cell_type": "code",
   "execution_count": 15,
   "id": "00a491be-377d-4071-9023-9950e9c18248",
   "metadata": {},
   "outputs": [
    {
     "name": "stdin",
     "output_type": "stream",
     "text": [
      "Enter a value = 2\n",
      "Enter name = Nischal\n",
      "Enter number = 98989\n",
      "Enter name = Hari\n",
      "Enter number = 10000\n"
     ]
    },
    {
     "name": "stdout",
     "output_type": "stream",
     "text": [
      "Nischal\t98989\n",
      "Hari\t10000\n",
      "\n"
     ]
    }
   ],
   "source": [
    "# WAP to store name and phone number of a given people\n",
    "s = \"\"\n",
    "b = int(input(\"Enter a value =\"))\n",
    "for i in range(b):\n",
    "    n = input(\"Enter name =\")\n",
    "    c = input(\"Enter number =\")\n",
    "    s = s + n + \"\\t\" + c + \"\\n\"\n",
    "print(s)"
   ]
  },
  {
   "cell_type": "code",
   "execution_count": 19,
   "id": "1ed16b48-bd24-419a-9f36-041b53c0e0b6",
   "metadata": {},
   "outputs": [],
   "source": [
    "# WAP to create a billing system\n",
    "# product = ?\n",
    "# price = ?\n",
    "# quantity = ?\n",
    "# total = ?\n"
   ]
  },
  {
   "cell_type": "code",
   "execution_count": 3,
   "id": "0d82c25b-a2cd-4cf0-a5b5-f1023a6afc7b",
   "metadata": {},
   "outputs": [
    {
     "name": "stdin",
     "output_type": "stream",
     "text": [
      "Enter n = 2\n",
      "Enter product name = pepsi\n",
      "Enter price = 10\n",
      "Enter quantity = 2\n",
      "Enter product name = coke\n",
      "Enter price = 20\n",
      "Enter quantity = 2\n"
     ]
    },
    {
     "name": "stdout",
     "output_type": "stream",
     "text": [
      "pepsi\t10\t2.0\t20.0\n",
      "coke\t20\t2.0\t40.0\n",
      "\n",
      "The total price of the products = Rs. 60.0\n"
     ]
    }
   ],
   "source": [
    "bill = \"\"\n",
    "final_total = 0\n",
    "n = int(input(\"Enter n =\"))\n",
    "for i in range(n):\n",
    "        product = input(\"Enter product name =\")\n",
    "        price = int(input(\"Enter price =\"))\n",
    "        quantity = float(input(\"Enter quantity =\"))\n",
    "        total = price * quantity\n",
    "        x = product + \"\\t\" + str(price) + \"\\t\" + str(quantity) + \"\\t\"+  str(total) + \"\\n\"\n",
    "        bill = bill + x\n",
    "        final_total = final_total + total\n",
    "print(bill)\n",
    "print(\"The total price of the products = Rs.\", final_total)"
   ]
  },
  {
   "cell_type": "code",
   "execution_count": null,
   "id": "8e441377-96b3-458b-ac62-4bfb795c0702",
   "metadata": {},
   "outputs": [],
   "source": [
    "# Loop on string\n",
    "a = \"Hello, Hi\"\n",
    "for i in a:\n",
    "    print(i)"
   ]
  },
  {
   "cell_type": "code",
   "execution_count": null,
   "id": "1d7dbaad-2fc3-4fe1-94ff-7d668573c94f",
   "metadata": {},
   "outputs": [],
   "source": [
    "a = \"Hello, Hi\"\n",
    "for i in a:\n",
    "    print(i , end = \"\")"
   ]
  },
  {
   "cell_type": "code",
   "execution_count": null,
   "id": "9107e3d3-1bae-4dec-97e9-cc299fd0d1f0",
   "metadata": {},
   "outputs": [],
   "source": [
    "a = \"Hello! Hi.\"\n",
    "for i in a:\n",
    "    if i != \".\" and i != \"!\":\n",
    "     print(i, end = \"\")"
   ]
  },
  {
   "cell_type": "code",
   "execution_count": null,
   "id": "be858c10-873f-43f7-bd8e-ef72a6ad9085",
   "metadata": {},
   "outputs": [],
   "source": [
    "# Control statements\n",
    "# break\n",
    "# continue\n",
    "# pass"
   ]
  },
  {
   "cell_type": "code",
   "execution_count": null,
   "id": "4beecd3a-675f-43db-beea-cefceac093bb",
   "metadata": {},
   "outputs": [],
   "source": [
    "a = 5\n",
    "for i in range(10):\n",
    "    if i == a:\n",
    "        break\n",
    "    print(i)"
   ]
  },
  {
   "cell_type": "code",
   "execution_count": null,
   "id": "4829f796-46cd-44f2-b80b-899ba5b8991f",
   "metadata": {},
   "outputs": [],
   "source": [
    "a = 5\n",
    "for i in range(10):\n",
    "    if i == a:\n",
    "        continue\n",
    "    print(i)"
   ]
  },
  {
   "cell_type": "code",
   "execution_count": 6,
   "id": "e7b3ccff-8281-4a26-afa4-08db9c5ef739",
   "metadata": {},
   "outputs": [
    {
     "name": "stdout",
     "output_type": "stream",
     "text": [
      "Hello World I am python"
     ]
    }
   ],
   "source": [
    "a = \"Hello World. I am python.\"\n",
    "for i in a:\n",
    "    if i == \".\":\n",
    "        continue\n",
    "    print(i, end = \"\")"
   ]
  }
 ],
 "metadata": {
  "kernelspec": {
   "display_name": "Python 3 (ipykernel)",
   "language": "python",
   "name": "python3"
  },
  "language_info": {
   "codemirror_mode": {
    "name": "ipython",
    "version": 3
   },
   "file_extension": ".py",
   "mimetype": "text/x-python",
   "name": "python",
   "nbconvert_exporter": "python",
   "pygments_lexer": "ipython3",
   "version": "3.12.7"
  }
 },
 "nbformat": 4,
 "nbformat_minor": 5
}
