{
 "cells": [
  {
   "cell_type": "code",
   "execution_count": null,
   "id": "e2dabf22-6ce0-45f5-9357-0493bb8eb2b5",
   "metadata": {},
   "outputs": [],
   "source": [
    "# While loop\n",
    "# while <condition>:\n",
    "#       <operation>"
   ]
  },
  {
   "cell_type": "code",
   "execution_count": null,
   "id": "86b17278-1996-447d-ad8b-21d5b8723f07",
   "metadata": {},
   "outputs": [],
   "source": [
    "a = 0\n",
    "while a<5:\n",
    "    print(a,\"Hello World\")\n",
    "    a = a+1"
   ]
  },
  {
   "cell_type": "code",
   "execution_count": null,
   "id": "62e3b5e7-1017-4bfb-9f11-fb02a9229904",
   "metadata": {},
   "outputs": [],
   "source": [
    "a = 5\n",
    "while a>0:\n",
    "    print(a,\"Hello World\")\n",
    "    a = a-1"
   ]
  },
  {
   "cell_type": "code",
   "execution_count": null,
   "id": "b68d444c-96bb-4b7c-80d6-8c9479f3ba50",
   "metadata": {},
   "outputs": [],
   "source": [
    "i = 1\n",
    "a = int(input(\"Enter a number\"))\n",
    "while i<=10:\n",
    "            print(a,\"x\",i,\"=\", a*i)\n",
    "            i = i+1"
   ]
  },
  {
   "cell_type": "code",
   "execution_count": null,
   "id": "3df6b5ce-910c-427b-a62a-4876a7a8fbdb",
   "metadata": {},
   "outputs": [],
   "source": [
    "s = 0\n",
    "i = 0\n",
    "n = int(input(\"Enter a number\"))\n",
    "while i<n:\n",
    "    x = int(input(\"Enter x =\"))\n",
    "    s = s + x\n",
    "    i = i + 1\n",
    "    print(s)"
   ]
  },
  {
   "cell_type": "code",
   "execution_count": null,
   "id": "b6adbbcf-7c62-4ff7-8349-e6e70bb0b9ce",
   "metadata": {},
   "outputs": [],
   "source": [
    "s = \"\"\n",
    "i = 0\n",
    "b = int(input(\"Enter a value =\"))\n",
    "while i<b:\n",
    "    n = input(\"Enter name =\")\n",
    "    c = input(\"Enter number =\")\n",
    "    s = s + n + \"\\t\" + c + \"\\n\"\n",
    "    i = i + 1\n",
    "print(s)"
   ]
  },
  {
   "cell_type": "code",
   "execution_count": null,
   "id": "903ee9e1-1620-46fa-a5d9-23204d2d34d3",
   "metadata": {},
   "outputs": [],
   "source": [
    "bill = \"\"\n",
    "i = 0\n",
    "final_total = 0\n",
    "n = int(input(\"Enter n =\"))\n",
    "while i<n:\n",
    "        product = input(\"Enter product name =\")\n",
    "        price = int(input(\"Enter price =\"))\n",
    "        quantity = float(input(\"Enter quantity =\"))\n",
    "        total = price * quantity\n",
    "        x = product + \"\\t\" + str(price) + \"\\t\" + str(quantity) + \"\\t\"+  str(total) + \"\\n\"\n",
    "        bill = bill + x\n",
    "        final_total = final_total + total\n",
    "        i = i + 1\n",
    "print(bill)\n",
    "print(\"The total price of the products = Rs.\", final_total)"
   ]
  },
  {
   "cell_type": "code",
   "execution_count": 2,
   "id": "b108a3b1-5105-486b-93ae-30dde86f5c55",
   "metadata": {},
   "outputs": [
    {
     "name": "stdout",
     "output_type": "stream",
     "text": [
      "0\n",
      "1\n",
      "2\n",
      "3\n",
      "4\n"
     ]
    }
   ],
   "source": [
    "# Control statement\n",
    "i = 0\n",
    "while i<10:\n",
    "    if i == 5:\n",
    "        break\n",
    "    print(i)\n",
    "    i = i+1"
   ]
  },
  {
   "cell_type": "code",
   "execution_count": 1,
   "id": "79e8208a-9053-4fe2-b84f-8bc5c48cea75",
   "metadata": {},
   "outputs": [
    {
     "name": "stdout",
     "output_type": "stream",
     "text": [
      "0\n",
      "1\n",
      "2\n",
      "3\n",
      "4\n",
      "6\n",
      "7\n",
      "8\n",
      "9\n"
     ]
    }
   ],
   "source": [
    "i = 0\n",
    "while i<10:\n",
    "    if i == 5:\n",
    "        i = i+1\n",
    "        continue\n",
    "    print(i)\n",
    "    i = i+1"
   ]
  },
  {
   "cell_type": "code",
   "execution_count": 3,
   "id": "a7283c17-f12b-417b-b7bb-5f5047a1ce2c",
   "metadata": {},
   "outputs": [
    {
     "name": "stdin",
     "output_type": "stream",
     "text": [
      "Enter a number = 9\n"
     ]
    },
    {
     "name": "stdout",
     "output_type": "stream",
     "text": [
      "The number is composite.\n"
     ]
    }
   ],
   "source": [
    "# For else loop\n",
    "n = int(input(\"Enter a number =\"))\n",
    "for i in range(2,n):\n",
    "    if n%1 == 0:\n",
    "        print(\"The number is composite.\")\n",
    "        break\n",
    "else:\n",
    "     print(\"The number is prime.\")"
   ]
  },
  {
   "cell_type": "code",
   "execution_count": null,
   "id": "0fc3ad53-87ca-45e9-96e4-19aa7189c48f",
   "metadata": {},
   "outputs": [],
   "source": []
  }
 ],
 "metadata": {
  "kernelspec": {
   "display_name": "Python 3 (ipykernel)",
   "language": "python",
   "name": "python3"
  },
  "language_info": {
   "codemirror_mode": {
    "name": "ipython",
    "version": 3
   },
   "file_extension": ".py",
   "mimetype": "text/x-python",
   "name": "python",
   "nbconvert_exporter": "python",
   "pygments_lexer": "ipython3",
   "version": "3.12.7"
  }
 },
 "nbformat": 4,
 "nbformat_minor": 5
}
