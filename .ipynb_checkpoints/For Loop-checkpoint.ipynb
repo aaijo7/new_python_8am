{
 "cells": [
  {
   "cell_type": "code",
   "execution_count": null,
   "id": "83fbc3d2-9436-4e75-99f2-a980a84dd84b",
   "metadata": {},
   "outputs": [],
   "source": [
    "# For loop\n",
    "# While loop"
   ]
  },
  {
   "cell_type": "code",
   "execution_count": 4,
   "id": "4b6819e5-a764-4b9b-b465-459c17a26f17",
   "metadata": {},
   "outputs": [
    {
     "data": {
      "text/plain": [
       "range(1, 10, 2)"
      ]
     },
     "execution_count": 4,
     "metadata": {},
     "output_type": "execute_result"
    }
   ],
   "source": [
    "# 1. For loop\n",
    "range(5)  # 0,1,2,3,4\n",
    "range(1,5) # 1,2,3,4\n",
    "range(1,10,2) # 1,3,5,7,9"
   ]
  },
  {
   "cell_type": "code",
   "execution_count": 11,
   "id": "661caecb-4139-412f-860a-59fd220058bc",
   "metadata": {},
   "outputs": [
    {
     "name": "stdout",
     "output_type": "stream",
     "text": [
      "0 Hello World\n",
      "1 Hello World\n"
     ]
    }
   ],
   "source": [
    "for i in range(2):\n",
    "    print(i,\"Hello World\")"
   ]
  },
  {
   "cell_type": "code",
   "execution_count": 12,
   "id": "0e4df2dc-abe0-4537-8990-1948dcea5816",
   "metadata": {},
   "outputs": [
    {
     "name": "stdout",
     "output_type": "stream",
     "text": [
      "1 Hello World\n"
     ]
    }
   ],
   "source": [
    "for i in range(1,2):\n",
    "    print(i,\"Hello World\")"
   ]
  },
  {
   "cell_type": "code",
   "execution_count": 13,
   "id": "82993c7c-beda-484e-ac4e-487d46de7dd1",
   "metadata": {},
   "outputs": [
    {
     "name": "stdout",
     "output_type": "stream",
     "text": [
      "1 Hello World\n",
      "3 Hello World\n",
      "5 Hello World\n",
      "7 Hello World\n",
      "9 Hello World\n"
     ]
    }
   ],
   "source": [
    "for i in range(1,10,2):\n",
    "    print(i,\"Hello World\")"
   ]
  },
  {
   "cell_type": "code",
   "execution_count": 15,
   "id": "965ad518-af5a-4a3d-b15c-628f991a9b84",
   "metadata": {},
   "outputs": [
    {
     "name": "stdout",
     "output_type": "stream",
     "text": [
      "10 Hello World\n",
      "8 Hello World\n",
      "6 Hello World\n",
      "4 Hello World\n",
      "2 Hello World\n"
     ]
    }
   ],
   "source": [
    "for i in range(10,1,-2):\n",
    "    print(i,\"Hello World\")"
   ]
  },
  {
   "cell_type": "code",
   "execution_count": 19,
   "id": "f5a3a4c7-789e-44c1-a757-65bd2fbe12cf",
   "metadata": {},
   "outputs": [
    {
     "name": "stdin",
     "output_type": "stream",
     "text": [
      "Enter a number = 5\n"
     ]
    },
    {
     "name": "stdout",
     "output_type": "stream",
     "text": [
      "5 x 1 = 5\n",
      "5 x 2 = 10\n",
      "5 x 3 = 15\n",
      "5 x 4 = 20\n",
      "5 x 5 = 25\n",
      "5 x 6 = 30\n",
      "5 x 7 = 35\n",
      "5 x 8 = 40\n",
      "5 x 9 = 45\n",
      "5 x 10 = 50\n"
     ]
    }
   ],
   "source": [
    "# WAP to create a multiplication table\n",
    "n = int(input(\"Enter a number =\"))\n",
    "for i in range(1,11):\n",
    "    print(n, \"x\", i, \"=\", n*i)"
   ]
  },
  {
   "cell_type": "code",
   "execution_count": 22,
   "id": "0a367e60-e5ac-4a8c-970f-7ef21ae1edfc",
   "metadata": {},
   "outputs": [
    {
     "name": "stdin",
     "output_type": "stream",
     "text": [
      "Enter the value of n = 3\n",
      "Enter the value of x = 1000\n"
     ]
    },
    {
     "name": "stdout",
     "output_type": "stream",
     "text": [
      "1000\n"
     ]
    },
    {
     "name": "stdin",
     "output_type": "stream",
     "text": [
      "Enter the value of x = 2000\n"
     ]
    },
    {
     "name": "stdout",
     "output_type": "stream",
     "text": [
      "3000\n"
     ]
    },
    {
     "name": "stdin",
     "output_type": "stream",
     "text": [
      "Enter the value of x = 3000\n"
     ]
    },
    {
     "name": "stdout",
     "output_type": "stream",
     "text": [
      "6000\n"
     ]
    }
   ],
   "source": [
    "s = 0\n",
    "n = int(input(\"Enter the value of n =\"))\n",
    "for i in range(n):\n",
    "    x = int(input(\"Enter the value of x =\"))\n",
    "    s = s + x\n",
    "    print(s)"
   ]
  },
  {
   "cell_type": "code",
   "execution_count": 35,
   "id": "b21bd051-c4f5-43be-8e22-9e7458f88f40",
   "metadata": {},
   "outputs": [
    {
     "name": "stdin",
     "output_type": "stream",
     "text": [
      "Enter n = 5\n",
      "Enter x = 1000\n"
     ]
    },
    {
     "name": "stdout",
     "output_type": "stream",
     "text": [
      "1100.0\n"
     ]
    },
    {
     "name": "stdin",
     "output_type": "stream",
     "text": [
      "Enter x = 2000\n"
     ]
    },
    {
     "name": "stdout",
     "output_type": "stream",
     "text": [
      "3300.0\n"
     ]
    },
    {
     "name": "stdin",
     "output_type": "stream",
     "text": [
      "Enter x = 3000\n"
     ]
    },
    {
     "name": "stdout",
     "output_type": "stream",
     "text": [
      "6600.0\n"
     ]
    },
    {
     "name": "stdin",
     "output_type": "stream",
     "text": [
      "Enter x = 4000\n"
     ]
    },
    {
     "name": "stdout",
     "output_type": "stream",
     "text": [
      "11000.0\n"
     ]
    },
    {
     "name": "stdin",
     "output_type": "stream",
     "text": [
      "Enter x = 5000\n"
     ]
    },
    {
     "name": "stdout",
     "output_type": "stream",
     "text": [
      "16500.0\n"
     ]
    }
   ],
   "source": [
    "s = 0\n",
    "n = int(input(\"Enter n =\"))\n",
    "for i in range(n):\n",
    "    x = int(input(\"Enter x =\"))\n",
    "    s = s + x*1.1\n",
    "    print(s)"
   ]
  },
  {
   "cell_type": "code",
   "execution_count": 44,
   "id": "faf2a6a8-7b93-4591-87a4-b07b4167fc4f",
   "metadata": {},
   "outputs": [
    {
     "name": "stdin",
     "output_type": "stream",
     "text": [
      "Enter k = 3\n",
      "Enter student's name = Nischal\n"
     ]
    },
    {
     "name": "stdout",
     "output_type": "stream",
     "text": [
      "Nischal\n",
      "\n"
     ]
    },
    {
     "name": "stdin",
     "output_type": "stream",
     "text": [
      "Enter student's name = Ram\n"
     ]
    },
    {
     "name": "stdout",
     "output_type": "stream",
     "text": [
      "Nischal\n",
      "Ram\n",
      "\n"
     ]
    },
    {
     "name": "stdin",
     "output_type": "stream",
     "text": [
      "Enter student's name = Hari\n"
     ]
    },
    {
     "name": "stdout",
     "output_type": "stream",
     "text": [
      "Nischal\n",
      "Ram\n",
      "Hari\n",
      "\n"
     ]
    }
   ],
   "source": [
    "s = \"\"\n",
    "k = int(input(\"Enter k =\"))\n",
    "for i in range(k):\n",
    "    n = input(\"Enter student's name =\")\n",
    "    s = s + n + \"\\n\"\n",
    "    print(s)"
   ]
  },
  {
   "cell_type": "code",
   "execution_count": null,
   "id": "63814f49-5476-4d57-a5ca-6d7aa9ed6eaa",
   "metadata": {},
   "outputs": [],
   "source": [
    "# WAP to find factorial of a given number\n"
   ]
  }
 ],
 "metadata": {
  "kernelspec": {
   "display_name": "Python 3 (ipykernel)",
   "language": "python",
   "name": "python3"
  },
  "language_info": {
   "codemirror_mode": {
    "name": "ipython",
    "version": 3
   },
   "file_extension": ".py",
   "mimetype": "text/x-python",
   "name": "python",
   "nbconvert_exporter": "python",
   "pygments_lexer": "ipython3",
   "version": "3.12.7"
  }
 },
 "nbformat": 4,
 "nbformat_minor": 5
}
