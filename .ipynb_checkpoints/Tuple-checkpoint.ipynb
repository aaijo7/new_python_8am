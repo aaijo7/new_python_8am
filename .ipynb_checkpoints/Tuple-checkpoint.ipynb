{
 "cells": [
  {
   "cell_type": "code",
   "execution_count": null,
   "id": "32ae795c-7f5a-40d6-a931-58374fd3b293",
   "metadata": {},
   "outputs": [],
   "source": [
    "# Tuple \n",
    "# - Indexing\n",
    "# - Ordered\n",
    "# - Multiple and Duplicate\n",
    "# - Imutable"
   ]
  },
  {
   "cell_type": "code",
   "execution_count": 1,
   "id": "592f006a-d412-40a1-8be4-649e1fb89d2e",
   "metadata": {},
   "outputs": [
    {
     "name": "stdout",
     "output_type": "stream",
     "text": [
      "<class 'tuple'>\n"
     ]
    }
   ],
   "source": [
    "t = (1,2,3,4,5,6,7,8,9)\n",
    "print(type(t))"
   ]
  },
  {
   "cell_type": "code",
   "execution_count": 4,
   "id": "2ae395e3-f1ad-45cd-8ba9-53ba18b252e0",
   "metadata": {},
   "outputs": [
    {
     "name": "stdout",
     "output_type": "stream",
     "text": [
      "<class 'tuple'>\n"
     ]
    }
   ],
   "source": [
    "t = (\"Apple\", \"Ball\") # t = ('Apple',)\n",
    "print(type(t))"
   ]
  },
  {
   "cell_type": "code",
   "execution_count": 7,
   "id": "847ed25e-5a5a-4b00-b973-1132d4dcc5c3",
   "metadata": {},
   "outputs": [
    {
     "name": "stdout",
     "output_type": "stream",
     "text": [
      "Ball\n",
      "('Apple', 'Ball', 'Cat')\n"
     ]
    }
   ],
   "source": [
    "t = ('Apple', 'Ball', 'Cat', 'Dog', 'Fish', 'Apple')\n",
    "print(t[1])\n",
    "print(t[0:3])"
   ]
  },
  {
   "cell_type": "code",
   "execution_count": null,
   "id": "9478e0fa-079d-4820-9005-572eb37abf43",
   "metadata": {},
   "outputs": [],
   "source": [
    "# No append() insert() extend()\n",
    "# No update\n",
    "# No del remove() pop()\n",
    "# No sort\n",
    "# No reverse()"
   ]
  },
  {
   "cell_type": "code",
   "execution_count": 10,
   "id": "8cdbc75f-3e85-499f-ac53-5c054bc25f88",
   "metadata": {},
   "outputs": [
    {
     "name": "stdin",
     "output_type": "stream",
     "text": [
      " Enter the value of n = 5\n",
      "Enter the value of x = 1\n",
      "Enter the value of x = 2\n",
      "Enter the value of x = 3\n",
      "Enter the value of x = 4\n",
      "Enter the value of x = 5\n"
     ]
    },
    {
     "name": "stdout",
     "output_type": "stream",
     "text": [
      "(1, 2, 3, 4, 5)\n"
     ]
    }
   ],
   "source": [
    "t = tuple()\n",
    "n = int(input(' Enter the value of n ='))\n",
    "for i in range(n):\n",
    "    x = int(input(\"Enter the value of x =\"))\n",
    "    t = t + (x,)\n",
    "\n",
    "print(t)"
   ]
  },
  {
   "cell_type": "code",
   "execution_count": 14,
   "id": "41258770-aaf2-44cd-bb30-1fea366b2d3e",
   "metadata": {},
   "outputs": [
    {
     "name": "stdout",
     "output_type": "stream",
     "text": [
      "5\n",
      "1\n",
      "15\n"
     ]
    }
   ],
   "source": [
    "print(max(t))\n",
    "print(min(t))\n",
    "print(sum(t))"
   ]
  },
  {
   "cell_type": "code",
   "execution_count": 15,
   "id": "92b117a6-e9b6-4f45-9c28-ab2204a6271f",
   "metadata": {},
   "outputs": [
    {
     "name": "stdout",
     "output_type": "stream",
     "text": [
      "(10, 15, 29, 20, 24, 19, 71)\n"
     ]
    }
   ],
   "source": [
    "a = 10, 15, 29, 20, 24, 19, 71\n",
    "print(a)"
   ]
  },
  {
   "cell_type": "code",
   "execution_count": 25,
   "id": "77b2507d-ff90-444b-8b19-11f84b42ebe2",
   "metadata": {},
   "outputs": [
    {
     "name": "stdout",
     "output_type": "stream",
     "text": [
      "('Apple', 'Ball', 'Cat', 'Dog', 'Fish')\n"
     ]
    }
   ],
   "source": [
    "# Tuple to list \n",
    "t = ('Apple', 'Ball', 'Cat', 'Dog', 'Fish', 'Apple')\n",
    "l = list(t)\n",
    "del l[5]\n",
    "\n",
    "t = tuple(l)\n",
    "print(t)"
   ]
  },
  {
   "cell_type": "code",
   "execution_count": 28,
   "id": "c9d984c8-b5e8-44f4-ab1c-7d672eb97f9d",
   "metadata": {},
   "outputs": [
    {
     "name": "stdout",
     "output_type": "stream",
     "text": [
      "((1, 2, 3, 4, 5), (6, 7, 8), (9, 10, 11))\n"
     ]
    }
   ],
   "source": [
    "# Tuple inside tuple\n",
    "a = (1,2,3,4,5), (6,7,8), (9,10,11)\n",
    "print(a)"
   ]
  }
 ],
 "metadata": {
  "kernelspec": {
   "display_name": "Python 3 (ipykernel)",
   "language": "python",
   "name": "python3"
  },
  "language_info": {
   "codemirror_mode": {
    "name": "ipython",
    "version": 3
   },
   "file_extension": ".py",
   "mimetype": "text/x-python",
   "name": "python",
   "nbconvert_exporter": "python",
   "pygments_lexer": "ipython3",
   "version": "3.12.7"
  }
 },
 "nbformat": 4,
 "nbformat_minor": 5
}
