{
 "cells": [
  {
   "cell_type": "code",
   "execution_count": 2,
   "id": "5538e7e7-bd04-4deb-bc36-4fae3cefdc3b",
   "metadata": {},
   "outputs": [],
   "source": [
    "import mysql.connector  \t\t#importing database\n",
    "\n",
    "database = mysql.connector.connect(\n",
    "host=\"localhost\",\n",
    "user=\"root\",\n",
    "password= \"\",\n",
    "database = \"python_class\"\n",
    " )\n",
    "db = database.cursor()"
   ]
  },
  {
   "cell_type": "code",
   "execution_count": 3,
   "id": "938c6ded-922b-44a3-9e14-ec4bf9e0347f",
   "metadata": {},
   "outputs": [],
   "source": [
    "# Write on table\n",
    "sql = \"\"\"INSERT INTO student(name, physics, chemistry, math, english, nepali, total, percentage, grade)\n",
    "VALUES('Akash', 78, 90, 87, 67, 70, 400, 74, 'B');\"\"\"\n",
    "db.execute(sql)\n",
    "database.commit()"
   ]
  },
  {
   "cell_type": "code",
   "execution_count": 4,
   "id": "9968351d-6858-46d4-859e-ad865a301aa2",
   "metadata": {},
   "outputs": [
    {
     "name": "stdin",
     "output_type": "stream",
     "text": [
      "Enter name = Dilip\n",
      "Enter the marks of physics =  58\n",
      "Enter the marks of chemistry =  58\n",
      "Enter the marks of Mathematics =  58\n",
      "Enter the marks of English =  58\n",
      "Enter the marks of Nepali =  58\n"
     ]
    }
   ],
   "source": [
    "name = input(\"Enter name =\") \n",
    "P = float(input(\"Enter the marks of physics = \"))\n",
    "C = float(input(\"Enter the marks of chemistry = \"))\n",
    "M = float(input(\"Enter the marks of Mathematics = \"))\n",
    "E = float(input(\"Enter the marks of English = \"))\n",
    "N = float(input(\"Enter the marks of Nepali = \"))\n",
    "T = P + C + M + E + N\n",
    "percentage = T/5 \n",
    "if percentage>=80:\n",
    "    grade = 'A'\n",
    "elif percentage>=60:\n",
    "    grade = 'B'\n",
    "else:\n",
    "    grade = 'F'\n",
    "\n",
    "sql = f\"\"\"INSERT INTO student (name, physics, chemistry, math, english, nepali, total, percentage, grade)\n",
    "VALUES ('{name}', {P}, {C}, {M}, {E}, {N}, {T}, {percentage}, '{grade}');\"\"\"\n",
    "db.execute(sql)\n",
    "database.commit()"
   ]
  },
  {
   "cell_type": "code",
   "execution_count": 6,
   "id": "8d636bee-7207-4794-90af-656e45008f36",
   "metadata": {},
   "outputs": [
    {
     "name": "stdin",
     "output_type": "stream",
     "text": [
      "Enter sn = 5\n",
      "Enter name = Nikhila\n"
     ]
    }
   ],
   "source": [
    "sn = int(input('Enter sn ='))\n",
    "name = input(\"Enter name =\")\n",
    "sql = f\"\"\"UPDATE student SET name = '{name}' WHERE sn = {sn};\"\"\"\n",
    "db.execute(sql)\n",
    "database.commit()"
   ]
  },
  {
   "cell_type": "code",
   "execution_count": 7,
   "id": "15ef5fb5-1dcb-4395-ae1e-863a2b8278b1",
   "metadata": {},
   "outputs": [
    {
     "name": "stdout",
     "output_type": "stream",
     "text": [
      "Collecting pandasql\n",
      "  Downloading pandasql-0.7.3.tar.gz (26 kB)\n",
      "  Preparing metadata (setup.py): started\n",
      "  Preparing metadata (setup.py): finished with status 'done'\n",
      "Requirement already satisfied: numpy in c:\\users\\user\\anaconda3\\lib\\site-packages (from pandasql) (1.26.4)\n",
      "Requirement already satisfied: pandas in c:\\users\\user\\anaconda3\\lib\\site-packages (from pandasql) (2.2.2)\n",
      "Requirement already satisfied: sqlalchemy in c:\\users\\user\\anaconda3\\lib\\site-packages (from pandasql) (2.0.34)\n",
      "Requirement already satisfied: python-dateutil>=2.8.2 in c:\\users\\user\\anaconda3\\lib\\site-packages (from pandas->pandasql) (2.9.0.post0)\n",
      "Requirement already satisfied: pytz>=2020.1 in c:\\users\\user\\anaconda3\\lib\\site-packages (from pandas->pandasql) (2024.1)\n",
      "Requirement already satisfied: tzdata>=2022.7 in c:\\users\\user\\anaconda3\\lib\\site-packages (from pandas->pandasql) (2023.3)\n",
      "Requirement already satisfied: typing-extensions>=4.6.0 in c:\\users\\user\\anaconda3\\lib\\site-packages (from sqlalchemy->pandasql) (4.11.0)\n",
      "Requirement already satisfied: greenlet!=0.4.17 in c:\\users\\user\\anaconda3\\lib\\site-packages (from sqlalchemy->pandasql) (3.0.1)\n",
      "Requirement already satisfied: six>=1.5 in c:\\users\\user\\anaconda3\\lib\\site-packages (from python-dateutil>=2.8.2->pandas->pandasql) (1.16.0)\n",
      "Building wheels for collected packages: pandasql\n",
      "  Building wheel for pandasql (setup.py): started\n",
      "  Building wheel for pandasql (setup.py): finished with status 'done'\n",
      "  Created wheel for pandasql: filename=pandasql-0.7.3-py3-none-any.whl size=26801 sha256=4d811984355531ca4d0d2341b07059e125fc25d9a60ceb2254e1bb99e14cc4ea\n",
      "  Stored in directory: c:\\users\\user\\appdata\\local\\pip\\cache\\wheels\\15\\a1\\e7\\6f92f295b5272ae5c02365e6b8fa19cb93f16a537090a1cf27\n",
      "Successfully built pandasql\n",
      "Installing collected packages: pandasql\n",
      "Successfully installed pandasql-0.7.3\n"
     ]
    }
   ],
   "source": [
    "!pip install pandasql"
   ]
  },
  {
   "cell_type": "code",
   "execution_count": 11,
   "id": "ce4133d4-2254-4e6a-87ed-0335cebc958f",
   "metadata": {},
   "outputs": [
    {
     "name": "stdin",
     "output_type": "stream",
     "text": [
      "Enter sn = 5\n"
     ]
    }
   ],
   "source": [
    "# delete in sql\n",
    "sn = int(input(\"Enter sn =\"))\n",
    "sql = f\"\"\"DELETE from student WHERE 'sn' = {sn}\"\"\"\n",
    "db.execute(sql)\n",
    "database.commit()"
   ]
  },
  {
   "cell_type": "code",
   "execution_count": null,
   "id": "b94d469c-6d48-48de-b732-bac1c532764c",
   "metadata": {},
   "outputs": [],
   "source": []
  }
 ],
 "metadata": {
  "kernelspec": {
   "display_name": "Python 3 (ipykernel)",
   "language": "python",
   "name": "python3"
  },
  "language_info": {
   "codemirror_mode": {
    "name": "ipython",
    "version": 3
   },
   "file_extension": ".py",
   "mimetype": "text/x-python",
   "name": "python",
   "nbconvert_exporter": "python",
   "pygments_lexer": "ipython3",
   "version": "3.12.7"
  }
 },
 "nbformat": 4,
 "nbformat_minor": 5
}
