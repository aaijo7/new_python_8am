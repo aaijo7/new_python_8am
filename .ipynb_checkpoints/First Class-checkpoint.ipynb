{
 "cells": [
  {
   "cell_type": "code",
   "execution_count": 4,
   "id": "2a2e8bf8-4c50-407b-8105-304941af57e9",
   "metadata": {},
   "outputs": [
    {
     "name": "stdout",
     "output_type": "stream",
     "text": [
      "10\n"
     ]
    }
   ],
   "source": [
    "n = 10\n",
    "print(n)"
   ]
  },
  {
   "cell_type": "code",
   "execution_count": 7,
   "id": "7dcbe373-a812-4877-9358-b43de7010bc2",
   "metadata": {},
   "outputs": [
    {
     "name": "stdout",
     "output_type": "stream",
     "text": [
      "10 10.5 Hello World True\n"
     ]
    }
   ],
   "source": [
    "n = 10              #integer  0-9\n",
    "i = 10.5            #float  0-9 with decimal\n",
    "s = 'Hello World'   #string  anything between '' or \" \"\n",
    "c = True            #boolean only True or False\n",
    "print(n,i,s,c)"
   ]
  },
  {
   "cell_type": "code",
   "execution_count": 9,
   "id": "aa820c51-ab5d-428d-a8e2-52ecc4323204",
   "metadata": {},
   "outputs": [],
   "source": [
    "# operators in python\n",
    "# + - * / ** // %"
   ]
  },
  {
   "cell_type": "code",
   "execution_count": 18,
   "id": "29d6f54d-b228-4928-9c52-572099b37af5",
   "metadata": {},
   "outputs": [
    {
     "name": "stdout",
     "output_type": "stream",
     "text": [
      "12 8 20 5.0\n",
      "100\n",
      "5\n",
      "0\n"
     ]
    }
   ],
   "source": [
    "a = 10\n",
    "b = 2\n",
    "print(a+b, a-b, a*b, a/b)\n",
    "print(a**b)\n",
    "print(a//b)\n",
    "print(a%b)\n"
   ]
  },
  {
   "cell_type": "code",
   "execution_count": 21,
   "id": "439e078c-54cf-47cf-a662-8d9c5f03228a",
   "metadata": {},
   "outputs": [
    {
     "name": "stdout",
     "output_type": "stream",
     "text": [
      "HelloWorld\n"
     ]
    }
   ],
   "source": [
    "# String\n",
    "a = 'Hello'\n",
    "b = 'World'\n",
    "c = a+b\n",
    "print(c)"
   ]
  },
  {
   "cell_type": "code",
   "execution_count": 22,
   "id": "3dea7f14-20dc-4a99-b822-c77b3b1a05a7",
   "metadata": {},
   "outputs": [
    {
     "name": "stdout",
     "output_type": "stream",
     "text": [
      "1010\n"
     ]
    }
   ],
   "source": [
    "a = \"10\"\n",
    "b = \"10\"\n",
    "c = a+b\n",
    "print(c)"
   ]
  },
  {
   "cell_type": "code",
   "execution_count": 27,
   "id": "99149635-a952-4d4c-a9e1-53624de94b23",
   "metadata": {},
   "outputs": [
    {
     "name": "stdout",
     "output_type": "stream",
     "text": [
      " Hello World Hello World\n"
     ]
    }
   ],
   "source": [
    "a = \" Hello World\"\n",
    "print(a*2)"
   ]
  },
  {
   "cell_type": "code",
   "execution_count": 32,
   "id": "9f28ad33-4c63-4c80-9f6a-f3a6d645379b",
   "metadata": {},
   "outputs": [
    {
     "name": "stdout",
     "output_type": "stream",
     "text": [
      "1\n",
      "-1\n",
      "0\n",
      "0.0\n"
     ]
    }
   ],
   "source": [
    "#boolean\n",
    "a = False\n",
    "b = True\n",
    "print(a+b)\n",
    "print(a-b)\n",
    "print(a*b)\n",
    "print(a/b)"
   ]
  },
  {
   "cell_type": "code",
   "execution_count": 3,
   "id": "95f32a0f-deab-4319-99e7-28848cc98cc2",
   "metadata": {},
   "outputs": [
    {
     "name": "stdout",
     "output_type": "stream",
     "text": [
      "<class 'int'>\n",
      "<class 'float'>\n",
      "<class 'str'>\n",
      "<class 'bool'>\n"
     ]
    }
   ],
   "source": [
    "n = 10              #integer  0-9\n",
    "i = 10.5            #float  0-9 with decimal\n",
    "s = 'Hello World'   #string  anything between '' or \" \"\n",
    "c = True            #boolean only True or False\n",
    "print(type(n))\n",
    "print(type(i))\n",
    "print(type(s))\n",
    "print(type(c))"
   ]
  },
  {
   "cell_type": "code",
   "execution_count": 5,
   "id": "fde416f6-df64-4e66-9634-a725b2e2f33c",
   "metadata": {},
   "outputs": [
    {
     "name": "stdout",
     "output_type": "stream",
     "text": [
      "10.0\n"
     ]
    }
   ],
   "source": [
    "#int to float\n",
    "a = 10\n",
    "b = float(a)\n",
    "print(b)\n"
   ]
  },
  {
   "cell_type": "code",
   "execution_count": 7,
   "id": "f9608311-cc91-47b7-84f8-2aece0961171",
   "metadata": {},
   "outputs": [
    {
     "name": "stdout",
     "output_type": "stream",
     "text": [
      "10\n"
     ]
    }
   ],
   "source": [
    "#float to int \n",
    "a = 10.5\n",
    "b = int(a)\n",
    "print(b)"
   ]
  },
  {
   "cell_type": "code",
   "execution_count": 10,
   "id": "bbd8d217-00c0-43ed-b2aa-371cf3ae0fe1",
   "metadata": {},
   "outputs": [
    {
     "name": "stdout",
     "output_type": "stream",
     "text": [
      "10\n"
     ]
    }
   ],
   "source": [
    "#int to string\n",
    "a = 10\n",
    "b = str(a)\n",
    "print(b)"
   ]
  },
  {
   "cell_type": "code",
   "execution_count": 12,
   "id": "da921a8c-b557-4ca0-b1f3-f21be47c905c",
   "metadata": {},
   "outputs": [
    {
     "name": "stdout",
     "output_type": "stream",
     "text": [
      "10.5\n"
     ]
    }
   ],
   "source": [
    "#string to float \n",
    "a = '10.5'\n",
    "b = float(a)\n",
    "print(b)"
   ]
  },
  {
   "cell_type": "code",
   "execution_count": 16,
   "id": "0299f8bd-e586-43e2-9ce4-a88a8a7119b2",
   "metadata": {},
   "outputs": [
    {
     "name": "stdout",
     "output_type": "stream",
     "text": [
      "False\n"
     ]
    }
   ],
   "source": [
    "#int to boolean \n",
    "a = 0\n",
    "b = bool(a)\n",
    "print(b)"
   ]
  },
  {
   "cell_type": "code",
   "execution_count": 18,
   "id": "652aa4f2-67b8-485b-a682-758e1608b431",
   "metadata": {},
   "outputs": [
    {
     "name": "stdout",
     "output_type": "stream",
     "text": [
      "False\n"
     ]
    }
   ],
   "source": [
    "#string to boolean\n",
    "a = ''\n",
    "b = bool(a)\n",
    "print(b)"
   ]
  },
  {
   "cell_type": "code",
   "execution_count": 20,
   "id": "6a309de5-7dc4-44f9-857f-105f721ab67b",
   "metadata": {},
   "outputs": [
    {
     "name": "stdin",
     "output_type": "stream",
     "text": [
      " 10\n"
     ]
    }
   ],
   "source": [
    "#user defined variabable\n",
    "a = input()"
   ]
  },
  {
   "cell_type": "code",
   "execution_count": 22,
   "id": "2e75bf9e-ffc6-459a-afcd-6b8aa4331f02",
   "metadata": {},
   "outputs": [
    {
     "name": "stdin",
     "output_type": "stream",
     "text": [
      "Enter a =  10\n",
      "Enter b =  10\n"
     ]
    },
    {
     "name": "stdout",
     "output_type": "stream",
     "text": [
      "1010\n"
     ]
    }
   ],
   "source": [
    "a = input(\"Enter a = \")\n",
    "b = input(\"Enter b = \")\n",
    "c = a+b\n",
    "print(c)"
   ]
  },
  {
   "cell_type": "code",
   "execution_count": null,
   "id": "098c2687-1cde-44fb-8e72-7f0fe34a8d25",
   "metadata": {},
   "outputs": [],
   "source": []
  }
 ],
 "metadata": {
  "kernelspec": {
   "display_name": "Python 3 (ipykernel)",
   "language": "python",
   "name": "python3"
  },
  "language_info": {
   "codemirror_mode": {
    "name": "ipython",
    "version": 3
   },
   "file_extension": ".py",
   "mimetype": "text/x-python",
   "name": "python",
   "nbconvert_exporter": "python",
   "pygments_lexer": "ipython3",
   "version": "3.12.7"
  }
 },
 "nbformat": 4,
 "nbformat_minor": 5
}
