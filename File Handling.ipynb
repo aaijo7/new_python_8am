{
 "cells": [
  {
   "cell_type": "code",
   "execution_count": null,
   "id": "e2642847-8626-4e0e-98f4-7b396f738ee6",
   "metadata": {},
   "outputs": [],
   "source": [
    "# File Handling\n",
    "\n",
    "# file = open('<file_name>', '<mode>')\n",
    "# file.close()\n",
    "\n",
    "# with open('<file_name>', '<mode>')as file:\n",
    "#             <operations>\n",
    "\n",
    "# # modes\n",
    "# x => create\n",
    "# r => read\n",
    "# a => append\n",
    "# w => write"
   ]
  },
  {
   "cell_type": "code",
   "execution_count": 1,
   "id": "486dc95c-0c3d-4827-a251-1028c59ba692",
   "metadata": {},
   "outputs": [],
   "source": [
    "file = open('data.txt', 'x')\n",
    "file.close()"
   ]
  },
  {
   "cell_type": "code",
   "execution_count": 3,
   "id": "fd9aa93d-5009-49e4-a161-a1173a91460f",
   "metadata": {},
   "outputs": [],
   "source": [
    "# pwd"
   ]
  },
  {
   "cell_type": "code",
   "execution_count": 8,
   "id": "37c3e408-0df7-47cd-9249-5933d1693235",
   "metadata": {},
   "outputs": [
    {
     "name": "stdout",
     "output_type": "stream",
     "text": [
      "1. Hello World\n",
      "2. Hello World\n",
      "3. Hello World\n",
      "4. Hello World\n",
      "5. Hello World\n",
      "6. Hello World\n",
      "7. Hello World\n"
     ]
    }
   ],
   "source": [
    "file = open('data.txt', 'r')\n",
    "data = file.read()\n",
    "file.close()\n",
    "print(data)"
   ]
  },
  {
   "cell_type": "code",
   "execution_count": 11,
   "id": "66e86dfe-db6c-4f65-94d1-83f35a2595e9",
   "metadata": {},
   "outputs": [
    {
     "data": {
      "text/plain": [
       "['1. Hello World',\n",
       " '2. Hello World',\n",
       " '3. Hello World',\n",
       " '4. Hello World',\n",
       " '5. Hello World',\n",
       " '6. Hello World',\n",
       " '7. Hello World']"
      ]
     },
     "execution_count": 11,
     "metadata": {},
     "output_type": "execute_result"
    }
   ],
   "source": [
    "lines = data.split(\"\\n\")\n",
    "lines"
   ]
  },
  {
   "cell_type": "code",
   "execution_count": 18,
   "id": "9d2858a0-8dc7-4a4e-9abb-a5e36dc57cbf",
   "metadata": {},
   "outputs": [
    {
     "name": "stdin",
     "output_type": "stream",
     "text": [
      "Enter n = 1\n"
     ]
    },
    {
     "data": {
      "text/plain": [
       "'1. Hello World'"
      ]
     },
     "execution_count": 18,
     "metadata": {},
     "output_type": "execute_result"
    }
   ],
   "source": [
    "n = int(input(\"Enter n =\"))\n",
    "line = data.split(\"\\n\")\n",
    "lines[n-1]"
   ]
  },
  {
   "cell_type": "code",
   "execution_count": 19,
   "id": "d15fc8e7-e0c6-4c14-9e84-721a740248cf",
   "metadata": {},
   "outputs": [],
   "source": [
    "# Write mode\n",
    "file = open('newdata.txt', 'w')\n",
    "file.write('Hello World, I am Python.')\n",
    "file.close();"
   ]
  },
  {
   "cell_type": "code",
   "execution_count": 43,
   "id": "6de17523-8bb2-44a1-89b7-b6500e9b893e",
   "metadata": {
    "scrolled": true
   },
   "outputs": [
    {
     "name": "stdin",
     "output_type": "stream",
     "text": [
      "Enter n = 2\n",
      "Enter product name = pepsi\n",
      "Enter price = 10\n",
      "Enter quantity = 2\n",
      "Enter product name = coke\n",
      "Enter price = 20\n",
      "Enter quantity = 1\n"
     ]
    },
    {
     "name": "stdout",
     "output_type": "stream",
     "text": [
      "pepsi 10 2.0 20.0 \n",
      "coke 20 1.0 20.0 \n",
      "\n"
     ]
    }
   ],
   "source": [
    "bill = \"\"\n",
    "final_total = 0\n",
    "n = int(input(\"Enter n =\"))\n",
    "for i in range(n):\n",
    "        product = input(\"Enter product name =\")\n",
    "        price = int(input(\"Enter price =\"))\n",
    "        quantity = float(input(\"Enter quantity =\"))\n",
    "        total = price * quantity\n",
    "        x = f\"{product}, {price}, {quantity}, {total}\\n\"\n",
    "        bill = bill + x\n",
    "        final_total = final_total + total\n",
    "print(bill)\n",
    "\n",
    "file = open('bill.txt', 'w')\n",
    "file.write(bill)\n",
    "file.close()"
   ]
  },
  {
   "cell_type": "code",
   "execution_count": 44,
   "id": "37268120-6bc3-4d35-a308-3cf2f5124851",
   "metadata": {},
   "outputs": [
    {
     "data": {
      "text/plain": [
       "'pepsi 10 2.0 20.0 \\ncoke 20 1.0 20.0 \\n'"
      ]
     },
     "execution_count": 44,
     "metadata": {},
     "output_type": "execute_result"
    }
   ],
   "source": [
    "file = open('bill.txt', 'r')\n",
    "data = file.read()\n",
    "file.close()\n",
    "data"
   ]
  },
  {
   "cell_type": "code",
   "execution_count": 45,
   "id": "9f80efb6-29f8-4515-ab97-9f5912775dcd",
   "metadata": {},
   "outputs": [
    {
     "data": {
      "text/plain": [
       "['pepsi 10 2.0 20.0 ', 'coke 20 1.0 20.0 ', '']"
      ]
     },
     "execution_count": 45,
     "metadata": {},
     "output_type": "execute_result"
    }
   ],
   "source": [
    "data_list = data.split(\"\\n\")\n",
    "data_list"
   ]
  },
  {
   "cell_type": "code",
   "execution_count": 46,
   "id": "d5b35917-c91d-4d90-9ed3-ff1b80ae870a",
   "metadata": {},
   "outputs": [
    {
     "name": "stdout",
     "output_type": "stream",
     "text": [
      "['pepsi 10 2.0 20.0 ']\n",
      "['coke 20 1.0 20.0 ']\n",
      "['']\n"
     ]
    },
    {
     "data": {
      "text/plain": [
       "['pepsi 10 2.0 20.0 ', 'coke 20 1.0 20.0 ', '']"
      ]
     },
     "execution_count": 46,
     "metadata": {},
     "output_type": "execute_result"
    }
   ],
   "source": [
    "final_list = []\n",
    "data_list = data.split(\"\\n\")\n",
    "data_list\n",
    "for i in data_list:\n",
    "    print(i.split(\"\\t\"))\n",
    "    final_list.append(i)\n",
    "final_list"
   ]
  },
  {
   "cell_type": "code",
   "execution_count": 50,
   "id": "8e89cc6d-aea3-4b19-bc4f-85abbe6b6b15",
   "metadata": {},
   "outputs": [
    {
     "data": {
      "text/plain": [
       "32"
      ]
     },
     "execution_count": 50,
     "metadata": {},
     "output_type": "execute_result"
    }
   ],
   "source": [
    "file = open('bill.csv', 'w')\n",
    "file.write('Product, Price, Quantity, Total\\n')"
   ]
  },
  {
   "cell_type": "code",
   "execution_count": null,
   "id": "2663a8a6-7db4-4f22-8f69-571933e0efcc",
   "metadata": {},
   "outputs": [],
   "source": []
  }
 ],
 "metadata": {
  "kernelspec": {
   "display_name": "Python 3 (ipykernel)",
   "language": "python",
   "name": "python3"
  },
  "language_info": {
   "codemirror_mode": {
    "name": "ipython",
    "version": 3
   },
   "file_extension": ".py",
   "mimetype": "text/x-python",
   "name": "python",
   "nbconvert_exporter": "python",
   "pygments_lexer": "ipython3",
   "version": "3.12.7"
  }
 },
 "nbformat": 4,
 "nbformat_minor": 5
}
