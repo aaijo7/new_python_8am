{
 "cells": [
  {
   "cell_type": "code",
   "execution_count": null,
   "id": "c681c534-ce34-4c85-8f0f-6776c250894f",
   "metadata": {},
   "outputs": [],
   "source": [
    "# if <conditions>;\n",
    "  # <operations>\n",
    "   #    elif <conditions>;\n",
    "    #        <operations>\n",
    "    #        ....\n",
    "    #         else;\n",
    "    #         <operations>"
   ]
  },
  {
   "cell_type": "code",
   "execution_count": null,
   "id": "b19d2392-4cad-429d-8e52-5ca2f421ee43",
   "metadata": {},
   "outputs": [],
   "source": [
    "# > < >= <= == !="
   ]
  },
  {
   "cell_type": "code",
   "execution_count": 15,
   "id": "94541271-4574-40b6-b9e6-c339b187c7dc",
   "metadata": {},
   "outputs": [
    {
     "name": "stdin",
     "output_type": "stream",
     "text": [
      "Enter a number =  -1\n"
     ]
    },
    {
     "name": "stdout",
     "output_type": "stream",
     "text": [
      "a is a negtaive number\n"
     ]
    }
   ],
   "source": [
    "a = int(input(\"Enter a number = \"))\n",
    "if a>=0:\n",
    "    print(\"a is a  positive number\")\n",
    "else:\n",
    "    print (\"a is a negtaive number\")"
   ]
  },
  {
   "cell_type": "code",
   "execution_count": 18,
   "id": "03c0a4f7-e457-42f4-a435-2c346b664ef6",
   "metadata": {},
   "outputs": [
    {
     "name": "stdin",
     "output_type": "stream",
     "text": [
      "Enter first number =  10\n",
      "Enter second number =  10\n"
     ]
    },
    {
     "name": "stdout",
     "output_type": "stream",
     "text": [
      "Both of the number are equal.\n"
     ]
    }
   ],
   "source": [
    "# WAP to find a greater number between two numbers\n",
    "a = int(input(\"Enter first number = \"))\n",
    "b = int(input(\"Enter second number = \"))\n",
    "if a>b:\n",
    "    print(\"The greater number among the two is = \",a)\n",
    "elif b>a:\n",
    "    print(\"The greater number among the two is = \",b)\n",
    "else:\n",
    "    print(\"Both of the number are equal.\")"
   ]
  },
  {
   "cell_type": "code",
   "execution_count": 31,
   "id": "2f9ec6d2-009a-4e6e-91d0-20354cdaf28c",
   "metadata": {},
   "outputs": [
    {
     "name": "stdin",
     "output_type": "stream",
     "text": [
      "Enter the marks of physics =  10\n",
      "Enter the marks of chemistry =  10\n",
      "Enter the marks of Mathematics =  10\n",
      "Enter the marks of English =  10\n",
      "Enter the marks of Nepali =  10\n"
     ]
    },
    {
     "name": "stdout",
     "output_type": "stream",
     "text": [
      "The grade is =  F\n"
     ]
    }
   ],
   "source": [
    "#WAP to calculate total marks and percentage\n",
    "P = float(input(\"Enter the marks of physics = \"))\n",
    "C = float(input(\"Enter the marks of chemistry = \"))\n",
    "M = float(input(\"Enter the marks of Mathematics = \"))\n",
    "E = float(input(\"Enter the marks of English = \"))\n",
    "N = float(input(\"Enter the marks of Nepali = \"))\n",
    "T = P + C + M + E + N\n",
    "percentage = T/5 \n",
    "if percentage>=80:\n",
    "    grade = 'A'\n",
    "elif percentage>=60:\n",
    "    grade = 'B'\n",
    "else:\n",
    "    grade = 'F'\n",
    "    print(\"The grade is = \",grade)"
   ]
  },
  {
   "cell_type": "code",
   "execution_count": 42,
   "id": "6c522651-b829-4190-9f5a-7373e3680bec",
   "metadata": {},
   "outputs": [
    {
     "name": "stdin",
     "output_type": "stream",
     "text": [
      "Enter a = 10\n",
      "Enter b = 0\n",
      "Enter + or - or / or * =  /\n"
     ]
    },
    {
     "name": "stdout",
     "output_type": "stream",
     "text": [
      "Invalid operator\n"
     ]
    }
   ],
   "source": [
    "# WAP to create a basic calculator\n",
    "a = int(input(\"Enter a =\"))\n",
    "b = int(input(\"Enter b =\"))\n",
    "o = input(\"Enter + or - or / or * = \")\n",
    "if o == '+':\n",
    "    print(a+b)\n",
    "elif o == '-':\n",
    "    print(a-b)\n",
    "elif o == '/':\n",
    "    print(a/b) \n",
    "elif o == '*':\n",
    "    print(a*b)\n",
    "else:\n",
    "    print(\"Invalid operator\")"
   ]
  },
  {
   "cell_type": "code",
   "execution_count": 35,
   "id": "4c6d986c-941d-483e-9283-bafcd5dd5726",
   "metadata": {},
   "outputs": [],
   "source": [
    "# Logical operatoe\n",
    "# and & bhaneko *\n",
    "# or | bhaneko +"
   ]
  },
  {
   "cell_type": "code",
   "execution_count": null,
   "id": "12659ad2-6569-47e8-80b7-62f032bf3265",
   "metadata": {},
   "outputs": [],
   "source": [
    "# Nested if else\n",
    "# if <condition>:\n",
    "  #  if <contion>:\n",
    "   # <operation>\n",
    "   # else <condition>:\n",
    "   #     <operation>\n",
    "   # else:\n",
    "    #    if <condition>:\n",
    "     #       <operation>\n",
    "      #      else <condition>:\n",
    "       #          <operation>"
   ]
  },
  {
   "cell_type": "code",
   "execution_count": 3,
   "id": "7443229b-b7e0-4716-80b2-535e068214a6",
   "metadata": {},
   "outputs": [
    {
     "name": "stdin",
     "output_type": "stream",
     "text": [
      "Enter a number =  -3\n"
     ]
    },
    {
     "name": "stdout",
     "output_type": "stream",
     "text": [
      "The number is negative and odd\n"
     ]
    }
   ],
   "source": [
    "n = int(input(\"Enter a number = \"))\n",
    "if n>=0:\n",
    "    if n%2==0:\n",
    "        print(\"The number is positive and even\")\n",
    "    else:\n",
    "        print(\"The number is positive and odd\")\n",
    "else:\n",
    "    if n%2==0:\n",
    "        print(\"The number is negative and even\")\n",
    "    else:\n",
    "        print(\"The number is negative and odd\")"
   ]
  },
  {
   "cell_type": "code",
   "execution_count": null,
   "id": "fe19f68b-6bda-4dab-b5ee-56c17f4a9988",
   "metadata": {},
   "outputs": [],
   "source": [
    "# if <condition>:\n",
    "#  if <contion>:\n",
    "#    if <condition>:\n",
    "#   <operation>\n",
    "# else:\n",
    "#     <operation>\n",
    "# else:\n",
    "#    if <condition>:\n",
    "#       <operation>\n",
    "#      else <condition>:\n",
    "#          <operation>"
   ]
  },
  {
   "cell_type": "code",
   "execution_count": null,
   "id": "2341f244-f1a4-4276-8414-7a45b830b402",
   "metadata": {},
   "outputs": [],
   "source": []
  }
 ],
 "metadata": {
  "kernelspec": {
   "display_name": "Python 3 (ipykernel)",
   "language": "python",
   "name": "python3"
  },
  "language_info": {
   "codemirror_mode": {
    "name": "ipython",
    "version": 3
   },
   "file_extension": ".py",
   "mimetype": "text/x-python",
   "name": "python",
   "nbconvert_exporter": "python",
   "pygments_lexer": "ipython3",
   "version": "3.12.7"
  }
 },
 "nbformat": 4,
 "nbformat_minor": 5
}
