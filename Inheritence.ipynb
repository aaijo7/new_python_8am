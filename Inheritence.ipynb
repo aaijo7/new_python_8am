{
 "cells": [
  {
   "cell_type": "code",
   "execution_count": 1,
   "id": "32463090-bb55-426a-b6d0-a85b46cd2624",
   "metadata": {},
   "outputs": [],
   "source": [
    "# class A:\n",
    "#     <methods>\n",
    "#     <methods>\n",
    "# class B(A):\n",
    "#     <methods>\n",
    "#     <methods>\n",
    "\n",
    "# obj = B()"
   ]
  },
  {
   "cell_type": "code",
   "execution_count": 4,
   "id": "ef6b687a-283f-4b3d-9cd6-b1025051db99",
   "metadata": {},
   "outputs": [
    {
     "name": "stdout",
     "output_type": "stream",
     "text": [
      "Hello World, I am Ram. I am from Kathmandu. I am 35 years old.\n"
     ]
    }
   ],
   "source": [
    "class Data:                                                      # Parent class\n",
    "    def __init__(self):\n",
    "        self.name = \"Ram\"\n",
    "        self.age = 35\n",
    "        self.add = \"Kathmandu\"\n",
    "        \n",
    "    def data(self):\n",
    "        print(self.name, self.add, self.age)\n",
    "\n",
    "class Info(Data):                                                # Child class\n",
    "    def info(self):\n",
    "        print(f\"Hello World, I am {self.name}. I am from {self.add}. I am {self.age} years old.\")\n",
    "\n",
    "obj = Info()\n",
    "obj.info()"
   ]
  },
  {
   "cell_type": "code",
   "execution_count": 8,
   "id": "0ff6715a-4e26-49ef-a60c-625f75988cd4",
   "metadata": {},
   "outputs": [
    {
     "name": "stdin",
     "output_type": "stream",
     "text": [
      "Enter name = RAM\n",
      "Enter age = 10\n",
      "Enter address = KATHMANDU\n"
     ]
    },
    {
     "name": "stdout",
     "output_type": "stream",
     "text": [
      "Hello World, I am RAM. I am from KATHMANDU. I am 10 years old.\n"
     ]
    }
   ],
   "source": [
    "class Data:                                                      \n",
    "    def __init__(self,name,add,age):\n",
    "        self.name = name\n",
    "        self.age = age\n",
    "        self.add = add\n",
    "        \n",
    "    def data(self):\n",
    "        print(self.name, self.add, self.age)\n",
    "\n",
    "class Info(Data):                                            \n",
    "    def info(self):\n",
    "        print(f\"Hello World, I am {self.name}. I am from {self.add}. I am {self.age} years old.\")\n",
    "name = input(\"Enter name =\")\n",
    "age = int(input(\"Enter age =\"))\n",
    "add = input(\"Enter address =\")\n",
    "obj = Info(name,add,age)\n",
    "obj.info()"
   ]
  },
  {
   "cell_type": "code",
   "execution_count": 11,
   "id": "70f6b78d-323c-4435-9e67-2b239b85fdaf",
   "metadata": {},
   "outputs": [
    {
     "name": "stdin",
     "output_type": "stream",
     "text": [
      "Enter name = Ram\n",
      "Enter age = 34\n",
      "Enter address = Bhaktapur\n"
     ]
    },
    {
     "name": "stdout",
     "output_type": "stream",
     "text": [
      "Hello World, I am Ram. I am from Bhaktapur. I am 34 years old.\n",
      "Ram Bhaktapur 34\n"
     ]
    }
   ],
   "source": [
    "class Data:                                                      \n",
    "    def __init__(self,age):\n",
    "        self.age = age\n",
    "        \n",
    "    def data(self):\n",
    "        print(self.name, self.add, self.age)\n",
    "\n",
    "class Info(Data):\n",
    "    def __init__(self,name,age,add):\n",
    "        self.name = name\n",
    "        self.add = add\n",
    "        Data.__init__(self,age)\n",
    "    def info(self):\n",
    "        print(f\"Hello World, I am {self.name}. I am from {self.add}. I am {self.age} years old.\")\n",
    "name = input(\"Enter name =\")\n",
    "age = int(input(\"Enter age =\"))\n",
    "add = input(\"Enter address =\")\n",
    "obj = Info(name,age,add)\n",
    "obj.info()\n",
    "obj.data()"
   ]
  },
  {
   "cell_type": "code",
   "execution_count": 13,
   "id": "8b7ae049-84e2-4371-b183-ba39d264e7ee",
   "metadata": {},
   "outputs": [
    {
     "name": "stdout",
     "output_type": "stream",
     "text": [
      "This is class A\n",
      "This is class B\n",
      "This is class C\n"
     ]
    }
   ],
   "source": [
    "class A:\n",
    "    print(\"This is class A\")\n",
    "class B(A):\n",
    "    print(\"This is class B\")\n",
    "class C(B):\n",
    "    print(\"This is class C\")\n",
    "obj = C()"
   ]
  },
  {
   "cell_type": "code",
   "execution_count": 14,
   "id": "fd0b60e8-0a23-4b34-8de8-425bf22fdbbf",
   "metadata": {},
   "outputs": [
    {
     "name": "stdin",
     "output_type": "stream",
     "text": [
      "Enter name = Hari\n",
      "Enter age = 18\n",
      "Enter address = Lalitpur\n"
     ]
    },
    {
     "name": "stdout",
     "output_type": "stream",
     "text": [
      "Hello World, I am Hari. I am from Lalitpur. I am 18 years old.\n",
      "Hari Lalitpur 18\n"
     ]
    }
   ],
   "source": [
    "class Address:\n",
    "    def __init__(self,add):\n",
    "        self.add = add\n",
    "    def address(self):\n",
    "        print(self.add)\n",
    "class Data(Address):                                                      \n",
    "    def __init__(self,age):\n",
    "        self.age = age\n",
    "        Address.__init__(self,add)\n",
    "        \n",
    "    def data(self):\n",
    "        print(self.name, self.add, self.age)\n",
    "\n",
    "class Info(Data):\n",
    "    def __init__(self,name,age,add):\n",
    "        self.name = name\n",
    "        self.add = add\n",
    "        Data.__init__(self,age)\n",
    "    def info(self):\n",
    "        print(f\"Hello World, I am {self.name}. I am from {self.add}. I am {self.age} years old.\")\n",
    "name = input(\"Enter name =\")\n",
    "age = int(input(\"Enter age =\"))\n",
    "add = input(\"Enter address =\")\n",
    "obj = Info(name,age,add)\n",
    "obj.info()\n",
    "obj.data()"
   ]
  },
  {
   "cell_type": "code",
   "execution_count": 16,
   "id": "480bfe0a-b9e5-403c-8bf2-c1b2b6a1ee1b",
   "metadata": {},
   "outputs": [
    {
     "name": "stdin",
     "output_type": "stream",
     "text": [
      "Enter name = Hari\n",
      "Enter age = 19\n",
      "Enter address = Illam\n"
     ]
    },
    {
     "name": "stdout",
     "output_type": "stream",
     "text": [
      "Hello World, I am Hari. I am from Illam. I am 19 years old.\n"
     ]
    }
   ],
   "source": [
    "class Address:\n",
    "    def __init__(self,add):\n",
    "        self.add = add\n",
    "        \n",
    "    def address(self):\n",
    "        print(self.add)\n",
    "        \n",
    "class Age:                                                      \n",
    "    def __init__(self,age):\n",
    "        self.age = age\n",
    "        \n",
    "    def data(self):\n",
    "        print(self.age)\n",
    "\n",
    "class Info(Address,Age):\n",
    "    def __init__(self,name,age,add):\n",
    "        self.name = name\n",
    "        Address.__init__(self,add)\n",
    "        Age.__init__(self,age)\n",
    "    def info(self):\n",
    "        print(f\"Hello World, I am {self.name}. I am from {self.add}. I am {self.age} years old.\")\n",
    "name = input(\"Enter name =\")\n",
    "age = int(input(\"Enter age =\"))\n",
    "add = input(\"Enter address =\")\n",
    "obj = Info(name,age,add)\n",
    "obj.info()"
   ]
  },
  {
   "cell_type": "code",
   "execution_count": 18,
   "id": "88dd7d90-2195-48c9-a90b-daef5d7885be",
   "metadata": {},
   "outputs": [
    {
     "name": "stdout",
     "output_type": "stream",
     "text": [
      "Hello World, I am Ram. I am from Kathmandu. I am 35 years old.\n",
      "('Ram', 'Kathmandu', 35)\n"
     ]
    }
   ],
   "source": [
    "class Data:                                                      # Parent class\n",
    "    def __init__(self):\n",
    "        self.name = \"Ram\"\n",
    "        self.age = 35\n",
    "        self.add = \"Kathmandu\"\n",
    "        \n",
    "    def data(self):\n",
    "        return self.name,self.add,self.age\n",
    "\n",
    "class Info(Data):                                                # Child class\n",
    "    def info(self):\n",
    "        print(f\"Hello World, I am {self.name}. I am from {self.add}. I am {self.age} years old.\")\n",
    "        print(Data.data(self))\n",
    "\n",
    "obj = Info()\n",
    "obj.info()"
   ]
  },
  {
   "cell_type": "code",
   "execution_count": 1,
   "id": "46852916-3050-4dcd-83ec-7529d626b062",
   "metadata": {},
   "outputs": [
    {
     "name": "stdout",
     "output_type": "stream",
     "text": [
      "Ram\n",
      "34\n",
      "Kathmandu\n"
     ]
    }
   ],
   "source": [
    "# Public members\n",
    "class Info():\n",
    "    def __init__(self):\n",
    "        self.name = \"Ram\"\n",
    "        self.age = 34\n",
    "        self.add = \"Kathmandu\"\n",
    "\n",
    "obj = Info()\n",
    "print(obj.name)\n",
    "print(obj.age)\n",
    "print(obj.add)"
   ]
  },
  {
   "cell_type": "code",
   "execution_count": 2,
   "id": "a788eb5f-2b68-4ab8-84cc-ab89e1d891ea",
   "metadata": {},
   "outputs": [
    {
     "name": "stdout",
     "output_type": "stream",
     "text": [
      "Ram\n",
      "34\n",
      "Kathmandu\n"
     ]
    }
   ],
   "source": [
    "# Protected members\n",
    "class Info():\n",
    "    def __init__(self):\n",
    "        self._name = \"Ram\"\n",
    "        self._age = 34\n",
    "        self._add = \"Kathmandu\"\n",
    "\n",
    "obj = Info()\n",
    "print(obj._name)\n",
    "print(obj._age)\n",
    "print(obj._add)"
   ]
  },
  {
   "cell_type": "code",
   "execution_count": null,
   "id": "f28f77e3-f7fa-4387-ac64-cb5810aad71d",
   "metadata": {},
   "outputs": [],
   "source": [
    "# # Private members\n",
    "# class Info():\n",
    "#     def __init__(self):\n",
    "#         self.__name = \"Ram\"\n",
    "#         self.__age = 34\n",
    "#         self.__add = \"Kathmandu\"\n",
    "\n",
    "# obj = Info()\n",
    "# print(obj.__name)\n",
    "# print(obj.__age)\n",
    "# print(obj.__add)"
   ]
  },
  {
   "cell_type": "code",
   "execution_count": 9,
   "id": "7cb819e5-b7ad-4385-84a7-85933cff4ab4",
   "metadata": {},
   "outputs": [
    {
     "name": "stdout",
     "output_type": "stream",
     "text": [
      "Hello world I am Ram. I am 34.\n",
      "Ram\n",
      "34\n"
     ]
    }
   ],
   "source": [
    "class Data():\n",
    "    def __init__(self):\n",
    "        self.name = \"Ram\"\n",
    "        self._age = 34\n",
    "        self.__add = \"Kathmandu\"\n",
    "    \n",
    "    def data(self):\n",
    "        print(self.name, self._age, self._add)\n",
    "\n",
    "class Info(Data):\n",
    "    def info(self):\n",
    "        print(f\"Hello world I am {self.name}. I am {self._age}.\")\n",
    "obj = Info()\n",
    "obj.info()\n",
    "print(obj.name)\n",
    "print(obj._age)"
   ]
  },
  {
   "cell_type": "code",
   "execution_count": null,
   "id": "daf466f7-93be-47ad-b906-f0421d651ea1",
   "metadata": {},
   "outputs": [],
   "source": []
  }
 ],
 "metadata": {
  "kernelspec": {
   "display_name": "Python 3 (ipykernel)",
   "language": "python",
   "name": "python3"
  },
  "language_info": {
   "codemirror_mode": {
    "name": "ipython",
    "version": 3
   },
   "file_extension": ".py",
   "mimetype": "text/x-python",
   "name": "python",
   "nbconvert_exporter": "python",
   "pygments_lexer": "ipython3",
   "version": "3.12.7"
  }
 },
 "nbformat": 4,
 "nbformat_minor": 5
}
